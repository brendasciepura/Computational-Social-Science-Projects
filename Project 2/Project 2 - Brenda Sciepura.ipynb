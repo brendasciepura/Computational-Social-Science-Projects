{
 "cells": [
  {
   "cell_type": "markdown",
   "id": "5026615a",
   "metadata": {},
   "source": [
    "# Computational Social Science Project #2 \n",
    "\n",
    "**Enter your Name: Brenda Sciepura\n",
    "\n",
    "*Semester:* Fall 2023\n"
   ]
  },
  {
   "cell_type": "markdown",
   "id": "fceabce6",
   "metadata": {},
   "source": [
    "Below we fill in some of the code you might use to answer some of the questions. Here are some additional resources for when you get stuck:\n",
    "* Code and documentation provided in the course notebooks  \n",
    "* [Markdown cheatsheet](https://github.com/adam-p/markdown-here/wiki/Markdown-Cheatsheet) to help with formatting the Jupyter notebook\n",
    "* Try Googling any errors you get and consult Stack Overflow, etc. Someone has probably had your question before!\n",
    "* Send me a pull request on GitHub flagging the syntax that's tripping you up "
   ]
  },
  {
   "cell_type": "markdown",
   "id": "f4f76ede",
   "metadata": {},
   "source": [
    "**INSTRUCTIONS:** For this project, copy all of the files in the Project 2 folder in the course repo into a \"Project 2\" subfolder within the \"Computational Social Science Projects\" directory that you created for the first project. You will work on the project locally, push your project to GitHub, and submit a link to the GitHub repo on bCourses by the project deadline. Be sure the final submission is in the main branch, which is what I'll pull down and re-run to grade. "
   ]
  },
  {
   "cell_type": "markdown",
   "id": "7920223d",
   "metadata": {},
   "source": [
    "## 1. Introduction/Setup"
   ]
  },
  {
   "cell_type": "markdown",
   "id": "013cd72b",
   "metadata": {},
   "source": [
    "#### a) Import relevant libraries\n",
    "Here are some libraries you will need to get started. Along the way you may need to add more. Best practice is to add them here at the top of the script."
   ]
  },
  {
   "cell_type": "code",
   "execution_count": 1,
   "id": "6ca2b1ac",
   "metadata": {
    "tags": []
   },
   "outputs": [],
   "source": [
    "# import libraries\n",
    "#-----------\n",
    "import pandas as pd\n",
    "import numpy as np\n",
    "import matplotlib.pyplot as plt\n",
    "%matplotlib inline\n",
    "import seaborn as sns\n",
    "import csv\n",
    "\n",
    "## for training, test and validate\n",
    "from sklearn.model_selection import train_test_split\n",
    "from sklearn.linear_model import LinearRegression\n",
    "from sklearn.linear_model import Lasso\n",
    "from sklearn.neighbors import KNeighborsRegressor\n",
    "from sklearn.model_selection import cross_val_score\n",
    "from sklearn.model_selection import cross_val_predict\n",
    "from sklearn.model_selection import GridSearchCV\n",
    "from sklearn.metrics import accuracy_score\n",
    "from sklearn.metrics import mean_squared_error\n",
    "\n",
    "# use random seed for consistent results \n",
    "np.random.seed(273)"
   ]
  },
  {
   "cell_type": "markdown",
   "id": "7c5b23b0",
   "metadata": {},
   "source": [
    "#### b) Read in and inspect data frame \n",
    "Read in the data frame and look at some of its attributes. Read in the data contained in the projoect folder: \"Diabetes with Population Info by County 2017.csv\"."
   ]
  },
  {
   "cell_type": "code",
   "execution_count": 2,
   "id": "171cd9e4",
   "metadata": {
    "tags": []
   },
   "outputs": [],
   "source": [
    "# read in and inspect data frame\n",
    "diabetes = pd.read_csv('/Users/brenda/github/Computational-Social-Science-Projects/Project 2/Diabetes with Population Info by County 2017.csv')"
   ]
  },
  {
   "cell_type": "code",
   "execution_count": 3,
   "id": "ca77b1bc",
   "metadata": {
    "tags": []
   },
   "outputs": [
    {
     "name": "stdout",
     "output_type": "stream",
     "text": [
      "shape:  (3220, 95)\n"
     ]
    }
   ],
   "source": [
    "# look at the dimensions of the data frame\n",
    "print('shape: ', diabetes.shape) "
   ]
  },
  {
   "cell_type": "code",
   "execution_count": 69,
   "id": "91328e60",
   "metadata": {
    "tags": []
   },
   "outputs": [],
   "source": [
    "# set pandas parameters\n",
    "#-----------\n",
    "# tells pandas how many rows to display when printing so results don't get truncated\n",
    "pd.set_option('display.max_rows', 100)\n",
    "\n",
    "# look at the data types for each column in diabetes df \n",
    "## print('data types:', diabetes.dtypes)"
   ]
  },
  {
   "cell_type": "markdown",
   "id": "b4e77f8b",
   "metadata": {},
   "source": [
    "Immediately, we see that some of the features that should be numeric (e.g., Diabetes_Number, Obesity_Number,  and Physical_Inactivity_Number) are not. We can check to see what the non-numeric values are in a column where we are expecting numeric information with a combination of `str.isnumeric()` and `unique()`."
   ]
  },
  {
   "cell_type": "code",
   "execution_count": 5,
   "id": "72315139",
   "metadata": {
    "tags": []
   },
   "outputs": [],
   "source": [
    "# Return rows where the column \"Diabetes_Number\" is non-numeric and get the unique values of these rows\n",
    "\n",
    "# Filter rows where \"Diabetes_Number\" is non-numeric\n",
    "non_numeric_rows = diabetes[~diabetes['Diabetes_Number'].str.isnumeric()]\n",
    "\n",
    "# Get unique values of the non-numeric \"Diabetes_Number\" column\n",
    "unique_non_numeric_values = non_numeric_rows['Diabetes_Number'].unique()"
   ]
  },
  {
   "cell_type": "code",
   "execution_count": 6,
   "id": "df1e47c6",
   "metadata": {},
   "outputs": [],
   "source": [
    "# Now do the same as above, but for \"Obesity_Number\"\n",
    "\n",
    "# Filter rows where \"Obesity_Number\" is non-numeric\n",
    "non_numeric_rows = diabetes[~diabetes['Obesity_Number'].str.isnumeric()]\n",
    "\n",
    "# Get unique values of the non-numeric \"Obesity_Number\" column\n",
    "unique_non_numeric_values = non_numeric_rows['Obesity_Number'].unique()"
   ]
  },
  {
   "cell_type": "code",
   "execution_count": 7,
   "id": "54d1e6e2",
   "metadata": {},
   "outputs": [],
   "source": [
    "# Now do the same as above, but for \"Physical_Inactivity_Number\" \n",
    "\n",
    "# Filter rows where \"Physical_Inactivity_Number\" is non-numeric\n",
    "non_numeric_rows = diabetes[~diabetes['Physical_Inactivity_Number'].str.isnumeric()]\n",
    "\n",
    "# Get unique values of the non-numeric \"Physical_Inactivity_Number\" column\n",
    "unique_non_numeric_values = non_numeric_rows['Physical_Inactivity_Number'].unique()"
   ]
  },
  {
   "cell_type": "markdown",
   "id": "b705636f",
   "metadata": {},
   "source": [
    "These values (\"Suppresssed\" and \"No Data\") contained in the two respective columns are coercing these features to objects instead of them being  integers. Let's drop those rows in the next section, and also recode \"Physical_Inactivity_Number\" feature to be an integer."
   ]
  },
  {
   "cell_type": "markdown",
   "id": "ac2a442a",
   "metadata": {},
   "source": [
    "#### c. Recode variables"
   ]
  },
  {
   "cell_type": "markdown",
   "id": "c31fe962",
   "metadata": {},
   "source": [
    "Convert 'Diabetes_Number', 'Obesity_Number', and 'Physical_Inactivity_Number' to integers below so we can use them in our analysis. Also fill in the object type we want to recode 'sex and age_total population_65 years and over_sex ratio (males per 100 females)' to (you'll have to scroll all the way over to the right)."
   ]
  },
  {
   "cell_type": "code",
   "execution_count": 8,
   "id": "b1c10a9f-a8b9-4a28-aa5a-2af18b9e0a43",
   "metadata": {
    "tags": []
   },
   "outputs": [],
   "source": [
    "# Recode variables\n",
    "#-----------\n",
    "\n",
    "# Diabetes\n",
    "# ----------\n",
    "# keep only useful info about our target feature, i.e., where diabetes_number not = 'Suppressed'\n",
    "# note that the inside reference to the diabetes df identifies the column, and the outer calls specific rows according to a condition \n",
    "diabetes = diabetes[diabetes['Diabetes_Number']!=\"Suppressed\"] \n",
    "diabetes = diabetes[diabetes['Diabetes_Number']!=\"No Data\"] \n",
    "\n",
    "# use the astype method on Diabetes_Number to convert it to an integer...if you are not sure, what does the astype() documentation tell you are possible arguments? \n",
    "diabetes['Diabetes_Number'] = diabetes['Diabetes_Number'].astype(int) "
   ]
  },
  {
   "cell_type": "code",
   "execution_count": 9,
   "id": "b3b4ff7e-7063-41fc-abd0-4fb42958aed8",
   "metadata": {
    "tags": []
   },
   "outputs": [],
   "source": [
    "# Obesity\n",
    "diabetes = diabetes[diabetes['Obesity_Number']!=\"Suppressed\"] \n",
    "diabetes = diabetes[diabetes['Obesity_Number']!=\"No Data\"] \n",
    "diabetes['Obesity_Number'] = diabetes['Obesity_Number'].astype(int) "
   ]
  },
  {
   "cell_type": "code",
   "execution_count": 10,
   "id": "46933fe8-a84e-4462-a56c-a53530b84db7",
   "metadata": {},
   "outputs": [],
   "source": [
    "# Physical Inactivity\n",
    "diabetes = diabetes[diabetes['Physical_Inactivity_Number']!=\"Suppressed\"] \n",
    "diabetes = diabetes[diabetes['Physical_Inactivity_Number']!=\"No Data\"] \n",
    "diabetes['Physical_Inactivity_Number'] = diabetes['Physical_Inactivity_Number'].astype(int) "
   ]
  },
  {
   "cell_type": "code",
   "execution_count": 11,
   "id": "f4acf34b",
   "metadata": {},
   "outputs": [],
   "source": [
    "# Some final changes \n",
    "# ----------\n",
    "# 65+ sex ratio had one \"-\" in it so let's drop that row first\n",
    "diabetes = diabetes[diabetes['sex and age_total population_65 years and over_sex ratio (males per 100 females)']!= \"-\"]"
   ]
  },
  {
   "cell_type": "code",
   "execution_count": 12,
   "id": "f7d48c70-5049-4c55-9477-b0ad70e4fa28",
   "metadata": {},
   "outputs": [],
   "source": [
    "# change to numeric from string, since it originally included the \"-\", which made it a string\n",
    "# you'll have to decide whether to make it integer or float \n",
    "diabetes['sex and age_total population_65 years and over_sex ratio (males per 100 females)'] = diabetes['sex and age_total population_65 years and over_sex ratio (males per 100 females)'].astype(float)"
   ]
  },
  {
   "cell_type": "markdown",
   "id": "e8a6850c",
   "metadata": {},
   "source": [
    "We should probably scale our count variables to be proportional to county population. We create the list 'rc_cols' to select all the features we want to rescale, and then use the `.div()` method to avoid typing out every single column we want to recode. "
   ]
  },
  {
   "cell_type": "code",
   "execution_count": 13,
   "id": "1b3e88d4-a73c-42ef-816b-506f756f0207",
   "metadata": {
    "tags": []
   },
   "outputs": [],
   "source": [
    "# Scale to county populations\n",
    "#-----------\n",
    "\n",
    "# select count variables to recode to percentages; make sure we leave out ratios and our population variable because these don't make sense to scale by population\n",
    "rc_cols = [col for col in diabetes.columns if col not in ['County', \n",
    "                                                          'State', \n",
    "                                                          'CountyFIPS', \n",
    "                                                          'sex and age_total population_65 years and over_sex ratio (males per 100 females)', \n",
    "                                                          'sex and age_total population_sex ratio (males per 100 females)', \n",
    "                                                          'sex and age_total population_18 years and over_sex ratio (males per 100 females)',  \n",
    "                                                          'race_total population']]"
   ]
  },
  {
   "cell_type": "code",
   "execution_count": 14,
   "id": "4ddb2299",
   "metadata": {},
   "outputs": [],
   "source": [
    "# recode all selected columns to numeric\n",
    "diabetes[rc_cols] = diabetes[rc_cols].apply(pd.to_numeric, errors='coerce') \n",
    "\n",
    "# divide all columns but those listed above by total population to calculate rates\n",
    "diabetes[rc_cols] = diabetes[rc_cols].div(diabetes['race_total population'], axis=0)"
   ]
  },
  {
   "cell_type": "markdown",
   "id": "9d9e1fe2",
   "metadata": {},
   "source": [
    "Let's check our work. Are all rates bounded by 0 and 1 as expected? "
   ]
  },
  {
   "cell_type": "code",
   "execution_count": 15,
   "id": "42f8f887",
   "metadata": {},
   "outputs": [
    {
     "data": {
      "text/html": [
       "<div>\n",
       "<style scoped>\n",
       "    .dataframe tbody tr th:only-of-type {\n",
       "        vertical-align: middle;\n",
       "    }\n",
       "\n",
       "    .dataframe tbody tr th {\n",
       "        vertical-align: top;\n",
       "    }\n",
       "\n",
       "    .dataframe thead th {\n",
       "        text-align: right;\n",
       "    }\n",
       "</style>\n",
       "<table border=\"1\" class=\"dataframe\">\n",
       "  <thead>\n",
       "    <tr style=\"text-align: right;\">\n",
       "      <th></th>\n",
       "      <th>count</th>\n",
       "      <th>mean</th>\n",
       "      <th>min</th>\n",
       "      <th>max</th>\n",
       "    </tr>\n",
       "  </thead>\n",
       "  <tbody>\n",
       "    <tr>\n",
       "      <th>CountyFIPS</th>\n",
       "      <td>3112.0</td>\n",
       "      <td>30374.235219</td>\n",
       "      <td>1001.000000</td>\n",
       "      <td>5.604500e+04</td>\n",
       "    </tr>\n",
       "    <tr>\n",
       "      <th>Diabetes_Number</th>\n",
       "      <td>3112.0</td>\n",
       "      <td>0.092857</td>\n",
       "      <td>0.019038</td>\n",
       "      <td>2.242079e-01</td>\n",
       "    </tr>\n",
       "    <tr>\n",
       "      <th>Obesity_Number</th>\n",
       "      <td>3112.0</td>\n",
       "      <td>0.251666</td>\n",
       "      <td>0.088946</td>\n",
       "      <td>4.767883e-01</td>\n",
       "    </tr>\n",
       "    <tr>\n",
       "      <th>Physical_Inactivity_Number</th>\n",
       "      <td>3112.0</td>\n",
       "      <td>0.200861</td>\n",
       "      <td>0.064949</td>\n",
       "      <td>3.922853e-01</td>\n",
       "    </tr>\n",
       "    <tr>\n",
       "      <th>sex and age_total population_65 years and over_sex ratio (males per 100 females)</th>\n",
       "      <td>3112.0</td>\n",
       "      <td>84.275643</td>\n",
       "      <td>34.700000</td>\n",
       "      <td>2.200000e+02</td>\n",
       "    </tr>\n",
       "    <tr>\n",
       "      <th>race_total population</th>\n",
       "      <td>3112.0</td>\n",
       "      <td>103682.624036</td>\n",
       "      <td>228.000000</td>\n",
       "      <td>1.009805e+07</td>\n",
       "    </tr>\n",
       "    <tr>\n",
       "      <th>race_total population_one race</th>\n",
       "      <td>3112.0</td>\n",
       "      <td>0.976059</td>\n",
       "      <td>0.713126</td>\n",
       "      <td>1.000000e+00</td>\n",
       "    </tr>\n",
       "    <tr>\n",
       "      <th>race_total population_two or more races</th>\n",
       "      <td>3112.0</td>\n",
       "      <td>0.023941</td>\n",
       "      <td>0.000000</td>\n",
       "      <td>2.868743e-01</td>\n",
       "    </tr>\n",
       "    <tr>\n",
       "      <th>race_total population_one race_1</th>\n",
       "      <td>3112.0</td>\n",
       "      <td>0.976059</td>\n",
       "      <td>0.713126</td>\n",
       "      <td>1.000000e+00</td>\n",
       "    </tr>\n",
       "    <tr>\n",
       "      <th>race_total population_one race_white</th>\n",
       "      <td>3112.0</td>\n",
       "      <td>0.831107</td>\n",
       "      <td>0.038912</td>\n",
       "      <td>1.000000e+00</td>\n",
       "    </tr>\n",
       "    <tr>\n",
       "      <th>race_total population_one race_black or african american</th>\n",
       "      <td>3112.0</td>\n",
       "      <td>0.090215</td>\n",
       "      <td>0.000000</td>\n",
       "      <td>8.741228e-01</td>\n",
       "    </tr>\n",
       "    <tr>\n",
       "      <th>race_total population_one race_american indian and alaska native</th>\n",
       "      <td>3112.0</td>\n",
       "      <td>0.019398</td>\n",
       "      <td>0.000000</td>\n",
       "      <td>9.247994e-01</td>\n",
       "    </tr>\n",
       "    <tr>\n",
       "      <th>race_total population_one race_american indian and alaska native_cherokee tribal grouping</th>\n",
       "      <td>3112.0</td>\n",
       "      <td>0.001791</td>\n",
       "      <td>0.000000</td>\n",
       "      <td>4.096685e-01</td>\n",
       "    </tr>\n",
       "    <tr>\n",
       "      <th>race_total population_one race_american indian and alaska native_chippewa tribal grouping</th>\n",
       "      <td>3112.0</td>\n",
       "      <td>0.001338</td>\n",
       "      <td>0.000000</td>\n",
       "      <td>7.264946e-01</td>\n",
       "    </tr>\n",
       "    <tr>\n",
       "      <th>race_total population_one race_american indian and alaska native_navajo tribal grouping</th>\n",
       "      <td>3112.0</td>\n",
       "      <td>0.001229</td>\n",
       "      <td>0.000000</td>\n",
       "      <td>7.054752e-01</td>\n",
       "    </tr>\n",
       "    <tr>\n",
       "      <th>race_total population_one race_american indian and alaska native_sioux tribal grouping</th>\n",
       "      <td>3112.0</td>\n",
       "      <td>0.003315</td>\n",
       "      <td>0.000000</td>\n",
       "      <td>8.339016e-01</td>\n",
       "    </tr>\n",
       "    <tr>\n",
       "      <th>race_total population_one race_asian</th>\n",
       "      <td>3112.0</td>\n",
       "      <td>0.013749</td>\n",
       "      <td>0.000000</td>\n",
       "      <td>4.251072e-01</td>\n",
       "    </tr>\n",
       "    <tr>\n",
       "      <th>race_total population_one race_asian_asian indian</th>\n",
       "      <td>3112.0</td>\n",
       "      <td>0.002628</td>\n",
       "      <td>0.000000</td>\n",
       "      <td>1.544929e-01</td>\n",
       "    </tr>\n",
       "    <tr>\n",
       "      <th>race_total population_one race_asian_chinese</th>\n",
       "      <td>3112.0</td>\n",
       "      <td>0.002644</td>\n",
       "      <td>0.000000</td>\n",
       "      <td>2.128881e-01</td>\n",
       "    </tr>\n",
       "    <tr>\n",
       "      <th>race_total population_one race_asian_filipino</th>\n",
       "      <td>3112.0</td>\n",
       "      <td>0.002744</td>\n",
       "      <td>0.000000</td>\n",
       "      <td>3.490435e-01</td>\n",
       "    </tr>\n",
       "    <tr>\n",
       "      <th>race_total population_one race_asian_japanese</th>\n",
       "      <td>3112.0</td>\n",
       "      <td>0.000707</td>\n",
       "      <td>0.000000</td>\n",
       "      <td>1.396858e-01</td>\n",
       "    </tr>\n",
       "    <tr>\n",
       "      <th>race_total population_one race_asian_korean</th>\n",
       "      <td>3112.0</td>\n",
       "      <td>0.001174</td>\n",
       "      <td>0.000000</td>\n",
       "      <td>6.200544e-02</td>\n",
       "    </tr>\n",
       "    <tr>\n",
       "      <th>race_total population_one race_asian_vietnamese</th>\n",
       "      <td>3112.0</td>\n",
       "      <td>0.001255</td>\n",
       "      <td>0.000000</td>\n",
       "      <td>6.901935e-02</td>\n",
       "    </tr>\n",
       "    <tr>\n",
       "      <th>race_total population_one race_asian_other asian</th>\n",
       "      <td>3112.0</td>\n",
       "      <td>0.002598</td>\n",
       "      <td>0.000000</td>\n",
       "      <td>1.074529e-01</td>\n",
       "    </tr>\n",
       "    <tr>\n",
       "      <th>race_total population_one race_native hawaiian and other pacific islander</th>\n",
       "      <td>3112.0</td>\n",
       "      <td>0.000874</td>\n",
       "      <td>0.000000</td>\n",
       "      <td>1.244574e-01</td>\n",
       "    </tr>\n",
       "    <tr>\n",
       "      <th>race_total population_one race_native hawaiian and other pacific islander_native hawaiian</th>\n",
       "      <td>3112.0</td>\n",
       "      <td>0.000303</td>\n",
       "      <td>0.000000</td>\n",
       "      <td>9.545781e-02</td>\n",
       "    </tr>\n",
       "    <tr>\n",
       "      <th>race_total population_one race_native hawaiian and other pacific islander_guamanian or chamorro</th>\n",
       "      <td>3112.0</td>\n",
       "      <td>0.000142</td>\n",
       "      <td>0.000000</td>\n",
       "      <td>1.071603e-02</td>\n",
       "    </tr>\n",
       "    <tr>\n",
       "      <th>race_total population_one race_native hawaiian and other pacific islander_samoan</th>\n",
       "      <td>3112.0</td>\n",
       "      <td>0.000134</td>\n",
       "      <td>0.000000</td>\n",
       "      <td>1.895652e-02</td>\n",
       "    </tr>\n",
       "    <tr>\n",
       "      <th>race_total population_one race_native hawaiian and other pacific islander_other pacific islander</th>\n",
       "      <td>3112.0</td>\n",
       "      <td>0.000295</td>\n",
       "      <td>0.000000</td>\n",
       "      <td>2.813683e-02</td>\n",
       "    </tr>\n",
       "    <tr>\n",
       "      <th>race_total population_one race_some other race</th>\n",
       "      <td>3112.0</td>\n",
       "      <td>0.020716</td>\n",
       "      <td>0.000000</td>\n",
       "      <td>5.700959e-01</td>\n",
       "    </tr>\n",
       "    <tr>\n",
       "      <th>race_total population_two or more races_1</th>\n",
       "      <td>3112.0</td>\n",
       "      <td>0.023941</td>\n",
       "      <td>0.000000</td>\n",
       "      <td>2.868743e-01</td>\n",
       "    </tr>\n",
       "    <tr>\n",
       "      <th>race_total population_two or more races_white and black or african american</th>\n",
       "      <td>3112.0</td>\n",
       "      <td>0.006444</td>\n",
       "      <td>0.000000</td>\n",
       "      <td>6.872038e-02</td>\n",
       "    </tr>\n",
       "    <tr>\n",
       "      <th>race_total population_two or more races_white and american indian and alaska native</th>\n",
       "      <td>3112.0</td>\n",
       "      <td>0.008618</td>\n",
       "      <td>0.000000</td>\n",
       "      <td>1.496241e-01</td>\n",
       "    </tr>\n",
       "    <tr>\n",
       "      <th>race_total population_two or more races_white and asian</th>\n",
       "      <td>3112.0</td>\n",
       "      <td>0.003021</td>\n",
       "      <td>0.000000</td>\n",
       "      <td>5.465950e-02</td>\n",
       "    </tr>\n",
       "    <tr>\n",
       "      <th>race_total population_two or more races_black or african american and american indian and alaska native</th>\n",
       "      <td>3112.0</td>\n",
       "      <td>0.000652</td>\n",
       "      <td>0.000000</td>\n",
       "      <td>1.833862e-02</td>\n",
       "    </tr>\n",
       "    <tr>\n",
       "      <th>race alone or in combination with one or more other races_total population</th>\n",
       "      <td>3112.0</td>\n",
       "      <td>1.000000</td>\n",
       "      <td>1.000000</td>\n",
       "      <td>1.000000e+00</td>\n",
       "    </tr>\n",
       "    <tr>\n",
       "      <th>race alone or in combination with one or more other races_total population_white</th>\n",
       "      <td>3112.0</td>\n",
       "      <td>0.852907</td>\n",
       "      <td>0.069895</td>\n",
       "      <td>1.000000e+00</td>\n",
       "    </tr>\n",
       "    <tr>\n",
       "      <th>race alone or in combination with one or more other races_total population_black or african american</th>\n",
       "      <td>3112.0</td>\n",
       "      <td>0.098875</td>\n",
       "      <td>0.000000</td>\n",
       "      <td>8.752193e-01</td>\n",
       "    </tr>\n",
       "    <tr>\n",
       "      <th>race alone or in combination with one or more other races_total population_american indian and alaska native</th>\n",
       "      <td>3112.0</td>\n",
       "      <td>0.029923</td>\n",
       "      <td>0.000000</td>\n",
       "      <td>9.482386e-01</td>\n",
       "    </tr>\n",
       "    <tr>\n",
       "      <th>race alone or in combination with one or more other races_total population_asian</th>\n",
       "      <td>3112.0</td>\n",
       "      <td>0.018213</td>\n",
       "      <td>0.000000</td>\n",
       "      <td>6.115702e-01</td>\n",
       "    </tr>\n",
       "    <tr>\n",
       "      <th>race alone or in combination with one or more other races_total population_native hawaiian and other pacific islander</th>\n",
       "      <td>3112.0</td>\n",
       "      <td>0.002067</td>\n",
       "      <td>0.000000</td>\n",
       "      <td>3.343148e-01</td>\n",
       "    </tr>\n",
       "    <tr>\n",
       "      <th>race alone or in combination with one or more other races_total population_some other race</th>\n",
       "      <td>3112.0</td>\n",
       "      <td>0.023626</td>\n",
       "      <td>0.000000</td>\n",
       "      <td>5.783582e-01</td>\n",
       "    </tr>\n",
       "    <tr>\n",
       "      <th>hispanic or latino and race_total population</th>\n",
       "      <td>3112.0</td>\n",
       "      <td>1.000000</td>\n",
       "      <td>1.000000</td>\n",
       "      <td>1.000000e+00</td>\n",
       "    </tr>\n",
       "    <tr>\n",
       "      <th>hispanic or latino and race_total population_hispanic or latino (of any race)</th>\n",
       "      <td>3112.0</td>\n",
       "      <td>0.093201</td>\n",
       "      <td>0.000000</td>\n",
       "      <td>9.906877e-01</td>\n",
       "    </tr>\n",
       "    <tr>\n",
       "      <th>hispanic or latino and race_total population_hispanic or latino (of any race)_mexican</th>\n",
       "      <td>3112.0</td>\n",
       "      <td>0.069331</td>\n",
       "      <td>0.000000</td>\n",
       "      <td>9.561461e-01</td>\n",
       "    </tr>\n",
       "    <tr>\n",
       "      <th>hispanic or latino and race_total population_hispanic or latino (of any race)_puerto rican</th>\n",
       "      <td>3112.0</td>\n",
       "      <td>0.005656</td>\n",
       "      <td>0.000000</td>\n",
       "      <td>3.157797e-01</td>\n",
       "    </tr>\n",
       "    <tr>\n",
       "      <th>hispanic or latino and race_total population_hispanic or latino (of any race)_cuban</th>\n",
       "      <td>3112.0</td>\n",
       "      <td>0.001568</td>\n",
       "      <td>0.000000</td>\n",
       "      <td>3.629896e-01</td>\n",
       "    </tr>\n",
       "    <tr>\n",
       "      <th>hispanic or latino and race_total population_hispanic or latino (of any race)_other hispanic or latino</th>\n",
       "      <td>3112.0</td>\n",
       "      <td>0.016645</td>\n",
       "      <td>0.000000</td>\n",
       "      <td>7.569581e-01</td>\n",
       "    </tr>\n",
       "    <tr>\n",
       "      <th>hispanic or latino and race_total population_not hispanic or latino</th>\n",
       "      <td>3112.0</td>\n",
       "      <td>0.906799</td>\n",
       "      <td>0.009312</td>\n",
       "      <td>1.000000e+00</td>\n",
       "    </tr>\n",
       "    <tr>\n",
       "      <th>hispanic or latino and race_total population_not hispanic or latino_white alone</th>\n",
       "      <td>3112.0</td>\n",
       "      <td>0.765065</td>\n",
       "      <td>0.007278</td>\n",
       "      <td>1.000000e+00</td>\n",
       "    </tr>\n",
       "    <tr>\n",
       "      <th>hispanic or latino and race_total population_not hispanic or latino_black or african american alone</th>\n",
       "      <td>3112.0</td>\n",
       "      <td>0.088817</td>\n",
       "      <td>0.000000</td>\n",
       "      <td>8.741228e-01</td>\n",
       "    </tr>\n",
       "    <tr>\n",
       "      <th>hispanic or latino and race_total population_not hispanic or latino_american indian and alaska native alone</th>\n",
       "      <td>3112.0</td>\n",
       "      <td>0.018016</td>\n",
       "      <td>0.000000</td>\n",
       "      <td>9.096121e-01</td>\n",
       "    </tr>\n",
       "    <tr>\n",
       "      <th>hispanic or latino and race_total population_not hispanic or latino_asian alone</th>\n",
       "      <td>3112.0</td>\n",
       "      <td>0.013534</td>\n",
       "      <td>0.000000</td>\n",
       "      <td>4.148463e-01</td>\n",
       "    </tr>\n",
       "    <tr>\n",
       "      <th>hispanic or latino and race_total population_not hispanic or latino_native hawaiian and other pacific islander alone</th>\n",
       "      <td>3112.0</td>\n",
       "      <td>0.000780</td>\n",
       "      <td>0.000000</td>\n",
       "      <td>1.116170e-01</td>\n",
       "    </tr>\n",
       "    <tr>\n",
       "      <th>hispanic or latino and race_total population_not hispanic or latino_some other race alone</th>\n",
       "      <td>3112.0</td>\n",
       "      <td>0.001097</td>\n",
       "      <td>0.000000</td>\n",
       "      <td>5.483672e-02</td>\n",
       "    </tr>\n",
       "    <tr>\n",
       "      <th>hispanic or latino and race_total population_not hispanic or latino_two or more races</th>\n",
       "      <td>3112.0</td>\n",
       "      <td>0.019489</td>\n",
       "      <td>0.000000</td>\n",
       "      <td>2.330136e-01</td>\n",
       "    </tr>\n",
       "    <tr>\n",
       "      <th>hispanic or latino and race_total population_not hispanic or latino_two or more races_two races including some other race</th>\n",
       "      <td>3112.0</td>\n",
       "      <td>0.000433</td>\n",
       "      <td>0.000000</td>\n",
       "      <td>1.422370e-02</td>\n",
       "    </tr>\n",
       "    <tr>\n",
       "      <th>hispanic or latino and race_total population_not hispanic or latino_two or more races_two races excluding some other race -  and three or more races</th>\n",
       "      <td>3112.0</td>\n",
       "      <td>0.019056</td>\n",
       "      <td>0.000000</td>\n",
       "      <td>2.323104e-01</td>\n",
       "    </tr>\n",
       "    <tr>\n",
       "      <th>total housing units</th>\n",
       "      <td>3112.0</td>\n",
       "      <td>0.490815</td>\n",
       "      <td>0.253924</td>\n",
       "      <td>2.017974e+00</td>\n",
       "    </tr>\n",
       "    <tr>\n",
       "      <th>citizen -  voting age population_citizen -  18 and over population</th>\n",
       "      <td>3112.0</td>\n",
       "      <td>0.750649</td>\n",
       "      <td>0.445682</td>\n",
       "      <td>9.074868e-01</td>\n",
       "    </tr>\n",
       "    <tr>\n",
       "      <th>citizen -  voting age population_citizen -  18 and over population_male</th>\n",
       "      <td>3112.0</td>\n",
       "      <td>0.372103</td>\n",
       "      <td>0.217886</td>\n",
       "      <td>7.185417e-01</td>\n",
       "    </tr>\n",
       "    <tr>\n",
       "      <th>citizen -  voting age population_citizen -  18 and over population_female</th>\n",
       "      <td>3112.0</td>\n",
       "      <td>0.378546</td>\n",
       "      <td>0.173038</td>\n",
       "      <td>4.718094e-01</td>\n",
       "    </tr>\n",
       "    <tr>\n",
       "      <th>sex and age_total population</th>\n",
       "      <td>3112.0</td>\n",
       "      <td>1.000000</td>\n",
       "      <td>1.000000</td>\n",
       "      <td>1.000000e+00</td>\n",
       "    </tr>\n",
       "    <tr>\n",
       "      <th>sex and age_total population_male</th>\n",
       "      <td>3112.0</td>\n",
       "      <td>0.500776</td>\n",
       "      <td>0.413863</td>\n",
       "      <td>7.899605e-01</td>\n",
       "    </tr>\n",
       "    <tr>\n",
       "      <th>sex and age_total population_female</th>\n",
       "      <td>3112.0</td>\n",
       "      <td>0.499224</td>\n",
       "      <td>0.210039</td>\n",
       "      <td>5.861366e-01</td>\n",
       "    </tr>\n",
       "    <tr>\n",
       "      <th>sex and age_total population_sex ratio (males per 100 females)</th>\n",
       "      <td>3112.0</td>\n",
       "      <td>100.861054</td>\n",
       "      <td>70.600000</td>\n",
       "      <td>3.761000e+02</td>\n",
       "    </tr>\n",
       "    <tr>\n",
       "      <th>sex and age_total population_under 5 years</th>\n",
       "      <td>3112.0</td>\n",
       "      <td>0.058274</td>\n",
       "      <td>0.009281</td>\n",
       "      <td>1.428571e-01</td>\n",
       "    </tr>\n",
       "    <tr>\n",
       "      <th>sex and age_total population_5 to 9 years</th>\n",
       "      <td>3112.0</td>\n",
       "      <td>0.061998</td>\n",
       "      <td>0.016174</td>\n",
       "      <td>1.278447e-01</td>\n",
       "    </tr>\n",
       "    <tr>\n",
       "      <th>sex and age_total population_10 to 14 years</th>\n",
       "      <td>3112.0</td>\n",
       "      <td>0.064260</td>\n",
       "      <td>0.016885</td>\n",
       "      <td>1.483254e-01</td>\n",
       "    </tr>\n",
       "    <tr>\n",
       "      <th>sex and age_total population_15 to 19 years</th>\n",
       "      <td>3112.0</td>\n",
       "      <td>0.064699</td>\n",
       "      <td>0.009174</td>\n",
       "      <td>2.644163e-01</td>\n",
       "    </tr>\n",
       "    <tr>\n",
       "      <th>sex and age_total population_20 to 24 years</th>\n",
       "      <td>3112.0</td>\n",
       "      <td>0.062519</td>\n",
       "      <td>0.000000</td>\n",
       "      <td>2.867792e-01</td>\n",
       "    </tr>\n",
       "    <tr>\n",
       "      <th>sex and age_total population_25 to 34 years</th>\n",
       "      <td>3112.0</td>\n",
       "      <td>0.117923</td>\n",
       "      <td>0.035022</td>\n",
       "      <td>2.538147e-01</td>\n",
       "    </tr>\n",
       "    <tr>\n",
       "      <th>sex and age_total population_35 to 44 years</th>\n",
       "      <td>3112.0</td>\n",
       "      <td>0.115818</td>\n",
       "      <td>0.045429</td>\n",
       "      <td>1.888218e-01</td>\n",
       "    </tr>\n",
       "    <tr>\n",
       "      <th>sex and age_total population_45 to 54 years</th>\n",
       "      <td>3112.0</td>\n",
       "      <td>0.129319</td>\n",
       "      <td>0.052870</td>\n",
       "      <td>2.414599e-01</td>\n",
       "    </tr>\n",
       "    <tr>\n",
       "      <th>sex and age_total population_55 to 59 years</th>\n",
       "      <td>3112.0</td>\n",
       "      <td>0.072628</td>\n",
       "      <td>0.017089</td>\n",
       "      <td>2.017544e-01</td>\n",
       "    </tr>\n",
       "    <tr>\n",
       "      <th>sex and age_total population_60 to 64 years</th>\n",
       "      <td>3112.0</td>\n",
       "      <td>0.068983</td>\n",
       "      <td>0.015126</td>\n",
       "      <td>1.754144e-01</td>\n",
       "    </tr>\n",
       "    <tr>\n",
       "      <th>sex and age_total population_65 to 74 years</th>\n",
       "      <td>3112.0</td>\n",
       "      <td>0.105167</td>\n",
       "      <td>0.024984</td>\n",
       "      <td>3.398706e-01</td>\n",
       "    </tr>\n",
       "    <tr>\n",
       "      <th>sex and age_total population_75 to 84 years</th>\n",
       "      <td>3112.0</td>\n",
       "      <td>0.055910</td>\n",
       "      <td>0.006536</td>\n",
       "      <td>1.735552e-01</td>\n",
       "    </tr>\n",
       "    <tr>\n",
       "      <th>sex and age_total population_85 years and over</th>\n",
       "      <td>3112.0</td>\n",
       "      <td>0.022501</td>\n",
       "      <td>0.000000</td>\n",
       "      <td>8.502538e-02</td>\n",
       "    </tr>\n",
       "    <tr>\n",
       "      <th>sex and age_total population_median age (years)</th>\n",
       "      <td>3112.0</td>\n",
       "      <td>0.004116</td>\n",
       "      <td>0.000004</td>\n",
       "      <td>2.039474e-01</td>\n",
       "    </tr>\n",
       "    <tr>\n",
       "      <th>sex and age_total population_under 18 years</th>\n",
       "      <td>3112.0</td>\n",
       "      <td>0.223623</td>\n",
       "      <td>0.073158</td>\n",
       "      <td>4.049768e-01</td>\n",
       "    </tr>\n",
       "    <tr>\n",
       "      <th>sex and age_total population_16 years and over</th>\n",
       "      <td>3112.0</td>\n",
       "      <td>0.802455</td>\n",
       "      <td>0.632349</td>\n",
       "      <td>9.347515e-01</td>\n",
       "    </tr>\n",
       "    <tr>\n",
       "      <th>sex and age_total population_18 years and over</th>\n",
       "      <td>3112.0</td>\n",
       "      <td>0.776377</td>\n",
       "      <td>0.595023</td>\n",
       "      <td>9.268424e-01</td>\n",
       "    </tr>\n",
       "    <tr>\n",
       "      <th>sex and age_total population_21 years and over</th>\n",
       "      <td>3112.0</td>\n",
       "      <td>0.737593</td>\n",
       "      <td>0.543791</td>\n",
       "      <td>9.107265e-01</td>\n",
       "    </tr>\n",
       "    <tr>\n",
       "      <th>sex and age_total population_62 years and over</th>\n",
       "      <td>3112.0</td>\n",
       "      <td>0.223854</td>\n",
       "      <td>0.054333</td>\n",
       "      <td>6.201456e-01</td>\n",
       "    </tr>\n",
       "    <tr>\n",
       "      <th>sex and age_total population_65 years and over</th>\n",
       "      <td>3112.0</td>\n",
       "      <td>0.183579</td>\n",
       "      <td>0.037986</td>\n",
       "      <td>5.559633e-01</td>\n",
       "    </tr>\n",
       "    <tr>\n",
       "      <th>sex and age_total population_18 years and over_1</th>\n",
       "      <td>3112.0</td>\n",
       "      <td>0.776377</td>\n",
       "      <td>0.595023</td>\n",
       "      <td>9.268424e-01</td>\n",
       "    </tr>\n",
       "    <tr>\n",
       "      <th>sex and age_total population_18 years and over_male</th>\n",
       "      <td>3112.0</td>\n",
       "      <td>0.386060</td>\n",
       "      <td>0.287995</td>\n",
       "      <td>7.237111e-01</td>\n",
       "    </tr>\n",
       "    <tr>\n",
       "      <th>sex and age_total population_18 years and over_female</th>\n",
       "      <td>3112.0</td>\n",
       "      <td>0.390317</td>\n",
       "      <td>0.174534</td>\n",
       "      <td>4.985799e-01</td>\n",
       "    </tr>\n",
       "    <tr>\n",
       "      <th>sex and age_total population_18 years and over_sex ratio (males per 100 females)</th>\n",
       "      <td>3112.0</td>\n",
       "      <td>99.632262</td>\n",
       "      <td>70.800000</td>\n",
       "      <td>4.147000e+02</td>\n",
       "    </tr>\n",
       "    <tr>\n",
       "      <th>sex and age_total population_65 years and over_1</th>\n",
       "      <td>3112.0</td>\n",
       "      <td>0.183579</td>\n",
       "      <td>0.037986</td>\n",
       "      <td>5.559633e-01</td>\n",
       "    </tr>\n",
       "    <tr>\n",
       "      <th>sex and age_total population_65 years and over_male</th>\n",
       "      <td>3112.0</td>\n",
       "      <td>0.084032</td>\n",
       "      <td>0.015325</td>\n",
       "      <td>2.685890e-01</td>\n",
       "    </tr>\n",
       "    <tr>\n",
       "      <th>sex and age_total population_65 years and over_female</th>\n",
       "      <td>3112.0</td>\n",
       "      <td>0.099547</td>\n",
       "      <td>0.022662</td>\n",
       "      <td>2.873743e-01</td>\n",
       "    </tr>\n",
       "  </tbody>\n",
       "</table>\n",
       "</div>"
      ],
      "text/plain": [
       "                                                     count           mean  \\\n",
       "CountyFIPS                                          3112.0   30374.235219   \n",
       "Diabetes_Number                                     3112.0       0.092857   \n",
       "Obesity_Number                                      3112.0       0.251666   \n",
       "Physical_Inactivity_Number                          3112.0       0.200861   \n",
       "sex and age_total population_65 years and over_...  3112.0      84.275643   \n",
       "race_total population                               3112.0  103682.624036   \n",
       "race_total population_one race                      3112.0       0.976059   \n",
       "race_total population_two or more races             3112.0       0.023941   \n",
       "race_total population_one race_1                    3112.0       0.976059   \n",
       "race_total population_one race_white                3112.0       0.831107   \n",
       "race_total population_one race_black or african...  3112.0       0.090215   \n",
       "race_total population_one race_american indian ...  3112.0       0.019398   \n",
       "race_total population_one race_american indian ...  3112.0       0.001791   \n",
       "race_total population_one race_american indian ...  3112.0       0.001338   \n",
       "race_total population_one race_american indian ...  3112.0       0.001229   \n",
       "race_total population_one race_american indian ...  3112.0       0.003315   \n",
       "race_total population_one race_asian                3112.0       0.013749   \n",
       "race_total population_one race_asian_asian indian   3112.0       0.002628   \n",
       "race_total population_one race_asian_chinese        3112.0       0.002644   \n",
       "race_total population_one race_asian_filipino       3112.0       0.002744   \n",
       "race_total population_one race_asian_japanese       3112.0       0.000707   \n",
       "race_total population_one race_asian_korean         3112.0       0.001174   \n",
       "race_total population_one race_asian_vietnamese     3112.0       0.001255   \n",
       "race_total population_one race_asian_other asian    3112.0       0.002598   \n",
       "race_total population_one race_native hawaiian ...  3112.0       0.000874   \n",
       "race_total population_one race_native hawaiian ...  3112.0       0.000303   \n",
       "race_total population_one race_native hawaiian ...  3112.0       0.000142   \n",
       "race_total population_one race_native hawaiian ...  3112.0       0.000134   \n",
       "race_total population_one race_native hawaiian ...  3112.0       0.000295   \n",
       "race_total population_one race_some other race      3112.0       0.020716   \n",
       "race_total population_two or more races_1           3112.0       0.023941   \n",
       "race_total population_two or more races_white a...  3112.0       0.006444   \n",
       "race_total population_two or more races_white a...  3112.0       0.008618   \n",
       "race_total population_two or more races_white a...  3112.0       0.003021   \n",
       "race_total population_two or more races_black o...  3112.0       0.000652   \n",
       "race alone or in combination with one or more o...  3112.0       1.000000   \n",
       "race alone or in combination with one or more o...  3112.0       0.852907   \n",
       "race alone or in combination with one or more o...  3112.0       0.098875   \n",
       "race alone or in combination with one or more o...  3112.0       0.029923   \n",
       "race alone or in combination with one or more o...  3112.0       0.018213   \n",
       "race alone or in combination with one or more o...  3112.0       0.002067   \n",
       "race alone or in combination with one or more o...  3112.0       0.023626   \n",
       "hispanic or latino and race_total population        3112.0       1.000000   \n",
       "hispanic or latino and race_total population_hi...  3112.0       0.093201   \n",
       "hispanic or latino and race_total population_hi...  3112.0       0.069331   \n",
       "hispanic or latino and race_total population_hi...  3112.0       0.005656   \n",
       "hispanic or latino and race_total population_hi...  3112.0       0.001568   \n",
       "hispanic or latino and race_total population_hi...  3112.0       0.016645   \n",
       "hispanic or latino and race_total population_no...  3112.0       0.906799   \n",
       "hispanic or latino and race_total population_no...  3112.0       0.765065   \n",
       "hispanic or latino and race_total population_no...  3112.0       0.088817   \n",
       "hispanic or latino and race_total population_no...  3112.0       0.018016   \n",
       "hispanic or latino and race_total population_no...  3112.0       0.013534   \n",
       "hispanic or latino and race_total population_no...  3112.0       0.000780   \n",
       "hispanic or latino and race_total population_no...  3112.0       0.001097   \n",
       "hispanic or latino and race_total population_no...  3112.0       0.019489   \n",
       "hispanic or latino and race_total population_no...  3112.0       0.000433   \n",
       "hispanic or latino and race_total population_no...  3112.0       0.019056   \n",
       "total housing units                                 3112.0       0.490815   \n",
       "citizen -  voting age population_citizen -  18 ...  3112.0       0.750649   \n",
       "citizen -  voting age population_citizen -  18 ...  3112.0       0.372103   \n",
       "citizen -  voting age population_citizen -  18 ...  3112.0       0.378546   \n",
       "sex and age_total population                        3112.0       1.000000   \n",
       "sex and age_total population_male                   3112.0       0.500776   \n",
       "sex and age_total population_female                 3112.0       0.499224   \n",
       "sex and age_total population_sex ratio (males p...  3112.0     100.861054   \n",
       "sex and age_total population_under 5 years          3112.0       0.058274   \n",
       "sex and age_total population_5 to 9 years           3112.0       0.061998   \n",
       "sex and age_total population_10 to 14 years         3112.0       0.064260   \n",
       "sex and age_total population_15 to 19 years         3112.0       0.064699   \n",
       "sex and age_total population_20 to 24 years         3112.0       0.062519   \n",
       "sex and age_total population_25 to 34 years         3112.0       0.117923   \n",
       "sex and age_total population_35 to 44 years         3112.0       0.115818   \n",
       "sex and age_total population_45 to 54 years         3112.0       0.129319   \n",
       "sex and age_total population_55 to 59 years         3112.0       0.072628   \n",
       "sex and age_total population_60 to 64 years         3112.0       0.068983   \n",
       "sex and age_total population_65 to 74 years         3112.0       0.105167   \n",
       "sex and age_total population_75 to 84 years         3112.0       0.055910   \n",
       "sex and age_total population_85 years and over      3112.0       0.022501   \n",
       "sex and age_total population_median age (years)     3112.0       0.004116   \n",
       "sex and age_total population_under 18 years         3112.0       0.223623   \n",
       "sex and age_total population_16 years and over      3112.0       0.802455   \n",
       "sex and age_total population_18 years and over      3112.0       0.776377   \n",
       "sex and age_total population_21 years and over      3112.0       0.737593   \n",
       "sex and age_total population_62 years and over      3112.0       0.223854   \n",
       "sex and age_total population_65 years and over      3112.0       0.183579   \n",
       "sex and age_total population_18 years and over_1    3112.0       0.776377   \n",
       "sex and age_total population_18 years and over_...  3112.0       0.386060   \n",
       "sex and age_total population_18 years and over_...  3112.0       0.390317   \n",
       "sex and age_total population_18 years and over_...  3112.0      99.632262   \n",
       "sex and age_total population_65 years and over_1    3112.0       0.183579   \n",
       "sex and age_total population_65 years and over_...  3112.0       0.084032   \n",
       "sex and age_total population_65 years and over_...  3112.0       0.099547   \n",
       "\n",
       "                                                            min           max  \n",
       "CountyFIPS                                          1001.000000  5.604500e+04  \n",
       "Diabetes_Number                                        0.019038  2.242079e-01  \n",
       "Obesity_Number                                         0.088946  4.767883e-01  \n",
       "Physical_Inactivity_Number                             0.064949  3.922853e-01  \n",
       "sex and age_total population_65 years and over_...    34.700000  2.200000e+02  \n",
       "race_total population                                228.000000  1.009805e+07  \n",
       "race_total population_one race                         0.713126  1.000000e+00  \n",
       "race_total population_two or more races                0.000000  2.868743e-01  \n",
       "race_total population_one race_1                       0.713126  1.000000e+00  \n",
       "race_total population_one race_white                   0.038912  1.000000e+00  \n",
       "race_total population_one race_black or african...     0.000000  8.741228e-01  \n",
       "race_total population_one race_american indian ...     0.000000  9.247994e-01  \n",
       "race_total population_one race_american indian ...     0.000000  4.096685e-01  \n",
       "race_total population_one race_american indian ...     0.000000  7.264946e-01  \n",
       "race_total population_one race_american indian ...     0.000000  7.054752e-01  \n",
       "race_total population_one race_american indian ...     0.000000  8.339016e-01  \n",
       "race_total population_one race_asian                   0.000000  4.251072e-01  \n",
       "race_total population_one race_asian_asian indian      0.000000  1.544929e-01  \n",
       "race_total population_one race_asian_chinese           0.000000  2.128881e-01  \n",
       "race_total population_one race_asian_filipino          0.000000  3.490435e-01  \n",
       "race_total population_one race_asian_japanese          0.000000  1.396858e-01  \n",
       "race_total population_one race_asian_korean            0.000000  6.200544e-02  \n",
       "race_total population_one race_asian_vietnamese        0.000000  6.901935e-02  \n",
       "race_total population_one race_asian_other asian       0.000000  1.074529e-01  \n",
       "race_total population_one race_native hawaiian ...     0.000000  1.244574e-01  \n",
       "race_total population_one race_native hawaiian ...     0.000000  9.545781e-02  \n",
       "race_total population_one race_native hawaiian ...     0.000000  1.071603e-02  \n",
       "race_total population_one race_native hawaiian ...     0.000000  1.895652e-02  \n",
       "race_total population_one race_native hawaiian ...     0.000000  2.813683e-02  \n",
       "race_total population_one race_some other race         0.000000  5.700959e-01  \n",
       "race_total population_two or more races_1              0.000000  2.868743e-01  \n",
       "race_total population_two or more races_white a...     0.000000  6.872038e-02  \n",
       "race_total population_two or more races_white a...     0.000000  1.496241e-01  \n",
       "race_total population_two or more races_white a...     0.000000  5.465950e-02  \n",
       "race_total population_two or more races_black o...     0.000000  1.833862e-02  \n",
       "race alone or in combination with one or more o...     1.000000  1.000000e+00  \n",
       "race alone or in combination with one or more o...     0.069895  1.000000e+00  \n",
       "race alone or in combination with one or more o...     0.000000  8.752193e-01  \n",
       "race alone or in combination with one or more o...     0.000000  9.482386e-01  \n",
       "race alone or in combination with one or more o...     0.000000  6.115702e-01  \n",
       "race alone or in combination with one or more o...     0.000000  3.343148e-01  \n",
       "race alone or in combination with one or more o...     0.000000  5.783582e-01  \n",
       "hispanic or latino and race_total population           1.000000  1.000000e+00  \n",
       "hispanic or latino and race_total population_hi...     0.000000  9.906877e-01  \n",
       "hispanic or latino and race_total population_hi...     0.000000  9.561461e-01  \n",
       "hispanic or latino and race_total population_hi...     0.000000  3.157797e-01  \n",
       "hispanic or latino and race_total population_hi...     0.000000  3.629896e-01  \n",
       "hispanic or latino and race_total population_hi...     0.000000  7.569581e-01  \n",
       "hispanic or latino and race_total population_no...     0.009312  1.000000e+00  \n",
       "hispanic or latino and race_total population_no...     0.007278  1.000000e+00  \n",
       "hispanic or latino and race_total population_no...     0.000000  8.741228e-01  \n",
       "hispanic or latino and race_total population_no...     0.000000  9.096121e-01  \n",
       "hispanic or latino and race_total population_no...     0.000000  4.148463e-01  \n",
       "hispanic or latino and race_total population_no...     0.000000  1.116170e-01  \n",
       "hispanic or latino and race_total population_no...     0.000000  5.483672e-02  \n",
       "hispanic or latino and race_total population_no...     0.000000  2.330136e-01  \n",
       "hispanic or latino and race_total population_no...     0.000000  1.422370e-02  \n",
       "hispanic or latino and race_total population_no...     0.000000  2.323104e-01  \n",
       "total housing units                                    0.253924  2.017974e+00  \n",
       "citizen -  voting age population_citizen -  18 ...     0.445682  9.074868e-01  \n",
       "citizen -  voting age population_citizen -  18 ...     0.217886  7.185417e-01  \n",
       "citizen -  voting age population_citizen -  18 ...     0.173038  4.718094e-01  \n",
       "sex and age_total population                           1.000000  1.000000e+00  \n",
       "sex and age_total population_male                      0.413863  7.899605e-01  \n",
       "sex and age_total population_female                    0.210039  5.861366e-01  \n",
       "sex and age_total population_sex ratio (males p...    70.600000  3.761000e+02  \n",
       "sex and age_total population_under 5 years             0.009281  1.428571e-01  \n",
       "sex and age_total population_5 to 9 years              0.016174  1.278447e-01  \n",
       "sex and age_total population_10 to 14 years            0.016885  1.483254e-01  \n",
       "sex and age_total population_15 to 19 years            0.009174  2.644163e-01  \n",
       "sex and age_total population_20 to 24 years            0.000000  2.867792e-01  \n",
       "sex and age_total population_25 to 34 years            0.035022  2.538147e-01  \n",
       "sex and age_total population_35 to 44 years            0.045429  1.888218e-01  \n",
       "sex and age_total population_45 to 54 years            0.052870  2.414599e-01  \n",
       "sex and age_total population_55 to 59 years            0.017089  2.017544e-01  \n",
       "sex and age_total population_60 to 64 years            0.015126  1.754144e-01  \n",
       "sex and age_total population_65 to 74 years            0.024984  3.398706e-01  \n",
       "sex and age_total population_75 to 84 years            0.006536  1.735552e-01  \n",
       "sex and age_total population_85 years and over         0.000000  8.502538e-02  \n",
       "sex and age_total population_median age (years)        0.000004  2.039474e-01  \n",
       "sex and age_total population_under 18 years            0.073158  4.049768e-01  \n",
       "sex and age_total population_16 years and over         0.632349  9.347515e-01  \n",
       "sex and age_total population_18 years and over         0.595023  9.268424e-01  \n",
       "sex and age_total population_21 years and over         0.543791  9.107265e-01  \n",
       "sex and age_total population_62 years and over         0.054333  6.201456e-01  \n",
       "sex and age_total population_65 years and over         0.037986  5.559633e-01  \n",
       "sex and age_total population_18 years and over_1       0.595023  9.268424e-01  \n",
       "sex and age_total population_18 years and over_...     0.287995  7.237111e-01  \n",
       "sex and age_total population_18 years and over_...     0.174534  4.985799e-01  \n",
       "sex and age_total population_18 years and over_...    70.800000  4.147000e+02  \n",
       "sex and age_total population_65 years and over_1       0.037986  5.559633e-01  \n",
       "sex and age_total population_65 years and over_...     0.015325  2.685890e-01  \n",
       "sex and age_total population_65 years and over_...     0.022662  2.873743e-01  "
      ]
     },
     "metadata": {},
     "output_type": "display_data"
    }
   ],
   "source": [
    "# check\n",
    "#-----------\n",
    "# set pandas options\n",
    "pd.set_option('display.max_columns', None)\n",
    "\n",
    "# inspect recoded values\n",
    "diabetes_summary = diabetes.describe().transpose() # note we use the transpose method rather than .T because this object is not a numpy array\n",
    "  \n",
    "# check recoding \n",
    "with pd.option_context('display.max_rows', 100, 'display.max_columns', None): \n",
    "    display(diabetes_summary.iloc[ : ,[0,1,3,7]]) # select which columns in the summary table we want to present"
   ]
  },
  {
   "cell_type": "markdown",
   "id": "f2dcc070",
   "metadata": {},
   "source": [
    "#### d. Check for duplicate columns"
   ]
  },
  {
   "cell_type": "markdown",
   "id": "7acce0aa",
   "metadata": {},
   "source": [
    "There are a lot of columns in this data frame. Let's see if there are any are duplicates. Note that Pandas will not allow them to have the same exact column name, so they will likely be distinct on column name but will be copies otherwise."
   ]
  },
  {
   "cell_type": "code",
   "execution_count": 16,
   "id": "700163cc",
   "metadata": {},
   "outputs": [
    {
     "name": "stdout",
     "output_type": "stream",
     "text": [
      "Duplicate Columns are as follows: \n"
     ]
    },
    {
     "data": {
      "text/plain": [
       "['race_total population_two or more races_1',\n",
       " 'sex and age_total population_18 years and over_1',\n",
       " 'hispanic or latino and race_total population',\n",
       " 'race_total population_one race_1',\n",
       " 'sex and age_total population',\n",
       " 'sex and age_total population_65 years and over_1']"
      ]
     },
     "execution_count": 16,
     "metadata": {},
     "output_type": "execute_result"
    }
   ],
   "source": [
    "# Check for duplicate columns\n",
    "#-----------\n",
    "# I used Google to figure this out, and adapted this example for our purposes:  \n",
    "# source: https://thispointer.com/how-to-find-drop-duplicate-columns-in-a-dataframe-python-pandas/ \n",
    "def getDuplicateColumns(df):\n",
    "    '''\n",
    "    Get a list of duplicate columns.\n",
    "    It will iterate over all the columns in dataframe and find the columns whose contents are duplicate.\n",
    "    :param df: Dataframe object\n",
    "    :return: List of columns whose contents are duplicates.\n",
    "    '''\n",
    "    duplicateColumnNames = set()\n",
    "    # Iterate over all the columns in dataframe\n",
    "    for x in range(df.shape[1]):\n",
    "        # Select column at xth index.\n",
    "        col = df.iloc[:, x]\n",
    "        # Iterate over all the columns in DataFrame from (x+1)th index till end\n",
    "        for y in range(x + 1, df.shape[1]):\n",
    "            # Select column at yth index.\n",
    "            otherCol = df.iloc[:, y]\n",
    "            # Check if two columns at x 7 y index are equal\n",
    "            if col.equals(otherCol):\n",
    "                duplicateColumnNames.add(df.columns.values[y])\n",
    "    return list(duplicateColumnNames)\n",
    "\n",
    "duplicateColumnNames = list(getDuplicateColumns(diabetes))\n",
    "print('Duplicate Columns are as follows: ')\n",
    "duplicateColumnNames"
   ]
  },
  {
   "cell_type": "code",
   "execution_count": 17,
   "id": "1ba3a52e",
   "metadata": {},
   "outputs": [],
   "source": [
    "# drop columns from duplicates list\n",
    "#-----------\n",
    "# now drop list of duplicate features from our df using the .drop() method\n",
    "diabetes = diabetes.drop(columns=duplicateColumnNames) "
   ]
  },
  {
   "cell_type": "markdown",
   "id": "39a85ec3",
   "metadata": {},
   "source": [
    "Finally, there are many states accounted for the in dataset. If we convert this column to a categorical variable, and create dummies, it will create a rather sparse matrix (many 0s in our dataset) because there will be 49 dummy variables. One alternative is to classify each state to a larger US region and use that variable instead of state. The following code will do that."
   ]
  },
  {
   "cell_type": "code",
   "execution_count": 18,
   "id": "fcd769e4",
   "metadata": {},
   "outputs": [
    {
     "data": {
      "text/plain": [
       "0       Southeast\n",
       "1       Southeast\n",
       "2       Southeast\n",
       "3       Southeast\n",
       "4       Southeast\n",
       "          ...    \n",
       "3215         West\n",
       "3216         West\n",
       "3217         West\n",
       "3218         West\n",
       "3219         West\n",
       "Name: Region, Length: 3112, dtype: object"
      ]
     },
     "execution_count": 18,
     "metadata": {},
     "output_type": "execute_result"
    }
   ],
   "source": [
    "# Define a dictionary mapping states to regions\n",
    "state_to_region = {\n",
    "    'Alabama': 'Southeast',\n",
    "    'Alaska': 'West',\n",
    "    'Arizona': 'West',\n",
    "    'Arkansas': 'South',\n",
    "    'California': 'West',\n",
    "    'Colorado': 'West',\n",
    "    'Connecticut': 'Northeast',\n",
    "    'Delaware': 'Northeast',\n",
    "    'District of Columbia': 'Southeast',\n",
    "    'Florida': 'Southeast',\n",
    "    'Georgia': 'Southeast',\n",
    "    'Hawaii': 'West',\n",
    "    'Idaho': 'West',\n",
    "    'Illinois': 'Midwest',\n",
    "    'Indiana': 'Midwest',\n",
    "    'Iowa': 'Midwest',\n",
    "    'Kansas': 'Midwest',\n",
    "    'Kentucky': 'South',\n",
    "    'Louisiana': 'South',\n",
    "    'Maine': 'Northeast',\n",
    "    'Maryland': 'Northeast',\n",
    "    'Massachusetts': 'Northeast',\n",
    "    'Michigan': 'Midwest',\n",
    "    'Minnesota': 'Midwest',\n",
    "    'Mississippi': 'South',\n",
    "    'Missouri': 'Midwest',\n",
    "    'Montana': 'West',\n",
    "    'Nebraska': 'Midwest',\n",
    "    'Nevada': 'West',\n",
    "    'New Hampshire': 'Northeast',\n",
    "    'New Jersey': 'Northeast',\n",
    "    'New Mexico': 'West',\n",
    "    'New York': 'Northeast',\n",
    "    'North Carolina': 'Southeast',\n",
    "    'North Dakota': 'Midwest',\n",
    "    'Ohio': 'Midwest',\n",
    "    'Oklahoma': 'South',\n",
    "    'Oregon': 'West',\n",
    "    'Pennsylvania': 'Northeast',\n",
    "    'Rhode Island': 'Northeast',\n",
    "    'South Carolina': 'Southeast',\n",
    "    'South Dakota': 'Midwest',\n",
    "    'Tennessee': 'South',\n",
    "    'Texas': 'South',\n",
    "    'Utah': 'West',\n",
    "    'Vermont': 'Northeast',\n",
    "    'Virginia': 'Southeast',\n",
    "    'Washington': 'West',\n",
    "    'West Virginia': 'South',\n",
    "    'Wisconsin': 'Midwest',\n",
    "    'Wyoming': 'West'\n",
    "}\n",
    "\n",
    "# Add a new 'Region' column based on the mapping\n",
    "diabetes['Region'] = diabetes['State'].map(state_to_region)\n",
    "\n",
    "# Print to verify'Region' column has been added\n",
    "diabetes['Region']"
   ]
  },
  {
   "cell_type": "markdown",
   "id": "4007b8d1",
   "metadata": {},
   "source": [
    "## 2. Exploratory Data Analysis\n",
    "\n",
    "Make at least two figures (feel free to make more) and explain their relevance to the scientific problem. The goal here is to uncover interesting patterns in the data, learn more about the scope of the problem, and communicate these findings to your audience in clear ways."
   ]
  },
  {
   "cell_type": "code",
   "execution_count": 19,
   "id": "f3d7d2f7-994f-40de-b73c-d4c2fb86d726",
   "metadata": {
    "tags": []
   },
   "outputs": [
    {
     "data": {
      "image/png": "[encoded data removed]",
      "text/plain": [
       "<Figure size 640x480 with 1 Axes>"
      ]
     },
     "metadata": {},
     "output_type": "display_data"
    }
   ],
   "source": [
    "# EDA # 1 \n",
    "#-----------\n",
    "\n",
    "y = diabetes['Diabetes_Number']\n",
    "\n",
    "# Create the bar graph\n",
    "plt.boxplot(y)\n",
    "\n",
    "# Show the plot\n",
    "plt.show()"
   ]
  },
  {
   "cell_type": "markdown",
   "id": "bf77f166-65b7-4f35-ac80-27846a38c497",
   "metadata": {
    "tags": []
   },
   "source": [
    "Interpretation EDA 1: This boxplot shows that the mean of the diabetes median is slightly below 10% but it's a skewed distribution due to the high number of outliers in the upper end of the distribution. This means that there are some counties in the country with a very high diabetes rate, that would probably be skewing the mean upwards. "
   ]
  },
  {
   "cell_type": "code",
   "execution_count": 20,
   "id": "3dfb3ae6",
   "metadata": {},
   "outputs": [
    {
     "data": {
      "image/png": "[encoded data removed]",
      "text/plain": [
       "<Figure size 640x480 with 1 Axes>"
      ]
     },
     "metadata": {},
     "output_type": "display_data"
    }
   ],
   "source": [
    "# EDA # 2 and interpretations in this section \n",
    "#-----------\n",
    "\n",
    "y = diabetes['Diabetes_Number']\n",
    "x = diabetes['hispanic or latino and race_total population_hispanic or latino (of any race)']\n",
    "\n",
    "# Create the bar graph\n",
    "plt.scatter(x, y, color='skyblue')\n",
    "plt.ylabel('Diabetes Rate (%)')\n",
    "plt.xlabel('Hispanic or Latinx Population (%)')\n",
    "plt.title('Diabetes Rates by Hispanic/Latinx Population')\n",
    "\n",
    "# Show the plot\n",
    "plt.show()"
   ]
  },
  {
   "cell_type": "markdown",
   "id": "4dca4ec7-d3b6-4cf4-976a-b765dd20e626",
   "metadata": {},
   "source": [
    "Interpretation EDA 2: This is a scatter plot of diabetes rates by Hispanic/Latinx Population which seems to indicate that counties with lower proportion of Hispanic/Latinx population are more likely to have higher diabetes rates. Conversely, counties with higher proportion of Latinx/Hispanic population have lower diabetes rates. "
   ]
  },
  {
   "cell_type": "code",
   "execution_count": 21,
   "id": "7e31f770",
   "metadata": {},
   "outputs": [
    {
     "data": {
      "image/png": "[encoded data removed]",
      "text/plain": [
       "<Figure size 640x480 with 1 Axes>"
      ]
     },
     "metadata": {},
     "output_type": "display_data"
    }
   ],
   "source": [
    "# EDA # 3 and interpretations in this section \n",
    "#-----------\n",
    "\n",
    "y = diabetes['Diabetes_Number']\n",
    "x = diabetes['race_total population_one race_black or african american']\n",
    "\n",
    "# Create the bar graph\n",
    "plt.scatter(x, y, color='skyblue')\n",
    "plt.xlabel('Black or African American (%)')\n",
    "plt.ylabel('Diabetes Rate (%)')\n",
    "plt.title('Diabetes Rates by African American Population')\n",
    "\n",
    "# Show the plot\n",
    "plt.show()"
   ]
  },
  {
   "cell_type": "markdown",
   "id": "57dd35ca-c9d0-4349-ae44-66ececa6fe98",
   "metadata": {},
   "source": [
    "Interpretation EDA 3: This scatter plot indicates a positive correlation between diabetes and the percentage of African Americans in the population, as diabetes rates are higher in places with higher proportion of African Americans. "
   ]
  },
  {
   "cell_type": "code",
   "execution_count": 22,
   "id": "21b4f344-fd84-413a-be6e-0992684c6f25",
   "metadata": {
    "tags": []
   },
   "outputs": [
    {
     "data": {
      "image/png": "[encoded data removed]",
      "text/plain": [
       "<Figure size 640x480 with 1 Axes>"
      ]
     },
     "metadata": {},
     "output_type": "display_data"
    }
   ],
   "source": [
    "# EDA # 4 and interpretations in this section \n",
    "#-----------\n",
    "\n",
    "y = diabetes['Diabetes_Number']\n",
    "x = diabetes['Obesity_Number']\n",
    "\n",
    "# Create the bar graph\n",
    "plt.scatter(x, y, color='skyblue')\n",
    "plt.xlabel('Diabetes rate (%)')\n",
    "plt.ylabel('Obesity rate (%)')\n",
    "plt.title('Correlation between Diabetes Rates and Obesity Rates')\n",
    "\n",
    "# Show the plot\n",
    "plt.show()"
   ]
  },
  {
   "cell_type": "markdown",
   "id": "f72d212c-c7e4-421b-a135-bd5d1b24a0c8",
   "metadata": {},
   "source": [
    "Interpretation EDA 4: We observe a strong positive correlation between diabetes rates and obesity rates, which means that overweight individuals are more likely to suffer from diabetes. "
   ]
  },
  {
   "cell_type": "code",
   "execution_count": 23,
   "id": "575c78d5-96aa-4ef6-8a84-2873bbeeb7dc",
   "metadata": {
    "tags": []
   },
   "outputs": [
    {
     "data": {
      "image/png": "[encoded data removed]",
      "text/plain": [
       "<Figure size 640x480 with 1 Axes>"
      ]
     },
     "metadata": {},
     "output_type": "display_data"
    }
   ],
   "source": [
    "# EDA # 5 and interpretations in this section \n",
    "#-----------\n",
    "\n",
    "y = diabetes['Diabetes_Number']\n",
    "x = diabetes['Physical_Inactivity_Number']\n",
    "\n",
    "# Create the bar graph\n",
    "plt.scatter(x, y, color='skyblue')\n",
    "plt.xlabel('Diabetes rate (%)')\n",
    "plt.ylabel('Physical Inactivity rate (%)')\n",
    "plt.title('Correlation between Diabetes Rates and Physical Inactivity Rates')\n",
    "\n",
    "# Show the plot\n",
    "plt.show()"
   ]
  },
  {
   "cell_type": "markdown",
   "id": "45c1d5f4-be58-4125-8207-b5827193f19a",
   "metadata": {},
   "source": [
    "Interpretation EDA 5: We observe a strong positive correlation between diabetes rates and physical inactivity rates, which means that being physically inactive is associated with experience of diabetes. However, this could also be due to the fact that physically inactive individuals are more likely to be overweight, so we're maybe already uncovering this relationship in the previous graph.  "
   ]
  },
  {
   "cell_type": "code",
   "execution_count": 24,
   "id": "732393ca-349b-4a86-8e84-c42952297078",
   "metadata": {
    "tags": []
   },
   "outputs": [
    {
     "data": {
      "image/png": "[encoded data removed]",
      "text/plain": [
       "<Figure size 640x480 with 1 Axes>"
      ]
     },
     "metadata": {},
     "output_type": "display_data"
    }
   ],
   "source": [
    "# EDA # 6 and interpretations in this section \n",
    "#-----------\n",
    "\n",
    "y = diabetes['hispanic or latino and race_total population_not hispanic or latino']\n",
    "x = diabetes['Region']\n",
    "\n",
    "# Create the bar graph\n",
    "plt.bar(x, y)\n",
    "plt.xlabel('Region')\n",
    "plt.ylabel('Diabetes Rates')\n",
    "plt.title('Diabetes Rates by US Regions')\n",
    "\n",
    "# Show the plot\n",
    "plt.show()"
   ]
  },
  {
   "cell_type": "markdown",
   "id": "c6ab9e68-40cd-4a85-8347-976174aaa9a4",
   "metadata": {},
   "source": [
    "Interpretation EDA 6: We observe higher likelihood of diabetes in the Southeast and South region. "
   ]
  },
  {
   "cell_type": "markdown",
   "id": "d4df05b0",
   "metadata": {
    "tags": []
   },
   "source": [
    "## 3. Prepare to Fit Models"
   ]
  },
  {
   "cell_type": "markdown",
   "id": "73492869",
   "metadata": {},
   "source": [
    "### 3.1 Finalize Data Set"
   ]
  },
  {
   "cell_type": "markdown",
   "id": "67257021",
   "metadata": {},
   "source": [
    "We've already cleaned up the data, but we can make a few more adjustments before partitioning the data and training models. Let's recode 'Region' to be a categorical variable using `pd.get_dummies` and drop 'State'. Also, we'll drop 'County' because 'CountyFIPS' is already a unique identifier for the county. "
   ]
  },
  {
   "cell_type": "code",
   "execution_count": 29,
   "id": "6aee3092-0080-4811-9981-e4ffb01b9ae9",
   "metadata": {
    "tags": []
   },
   "outputs": [],
   "source": [
    "# Drop and get dummies\n",
    "#-----------\n",
    "\n",
    "# create dummy features out of 'Region', which might be related to diabetes rates \n",
    "diabetes_region = pd.get_dummies(diabetes['Region'],  \n",
    "                                 drop_first = True) # drop the first as a reference \n",
    "\n",
    "## join diabetes and diabetes_clean\n",
    "diabetes = pd.concat([diabetes, diabetes_region], axis=1)"
   ]
  },
  {
   "cell_type": "markdown",
   "id": "c768ecd6",
   "metadata": {},
   "source": [
    "### 3.2 Feature Selection, Partition Data and Standardization"
   ]
  },
  {
   "cell_type": "markdown",
   "id": "f305051f",
   "metadata": {},
   "source": [
    "Now, we will partition our data to prepare it for the training process. Ultimately we want to use a 60% train—20% validation—20% test in this case. More data in the training set lowers bias, but then increases variance in the validation/test sets. Balancing between bias and variance with choice of these set sizes is important as we want to ensure that there is enough data to train on to get good predictions, but also want to make sure our hold-out sets are representative enough.\n",
    "\n",
    "Work through partitioning the data into the test/train/validation sets in the chunks below. Be sure to that if you are using Ridge or LASSO, you Standardize the data. Where you do this in the workflow matters so be clear about where you are doing this and why. "
   ]
  },
  {
   "cell_type": "markdown",
   "id": "6add644b-4e2c-42cf-97e1-8712d752f885",
   "metadata": {},
   "source": [
    "# Feature selection\n",
    "\n",
    "Investigate whether there are any features that you should remove prior to model fitting. You may also consider using plots and relationships you found in the EDA stage for this question. Be sure to justify your logic. "
   ]
  },
  {
   "cell_type": "code",
   "execution_count": 30,
   "id": "c5b47f2e-5e2b-4912-bd75-cdbc7519f4c4",
   "metadata": {
    "tags": []
   },
   "outputs": [],
   "source": [
    "## I'm removing a few variables that might be causing multicollinearity. \n",
    "columns_to_remove = ['race_total population_two or more races', \n",
    "                     'race_total population_one race_american indian and alaska native_cherokee tribal grouping', \n",
    "                     'race_total population_one race_american indian and alaska native_chippewa tribal grouping', \n",
    "                     'race_total population_one race_native hawaiian and other pacific islander_samoan', \n",
    "                     'race_total population_one race_native hawaiian and other pacific islander_other pacific islander', \n",
    "                     'race alone or in combination with one or more other races_total population', \n",
    "                     'hispanic or latino and race_total population_not hispanic or latino_two or more races_two races including some other race',\n",
    "                     'sex and age_total population_female', \n",
    "                     'sex and age_total population_under 5 years', \n",
    "                     'sex and age_total population_under 18 years',\n",
    "                     'County', ## also removing non-numeric variables\n",
    "                     'CountyFIPS', ## also removing non-numeric variables\n",
    "                     'State', ## also removing non-numeric variables\n",
    "                     'Region']## also removing non-numeric variables"
   ]
  },
  {
   "cell_type": "code",
   "execution_count": 70,
   "id": "ec069dd7-c882-4507-8bcf-835cd3f50900",
   "metadata": {
    "tags": []
   },
   "outputs": [],
   "source": [
    "diabetes_clean = diabetes.drop(columns = columns_to_remove)"
   ]
  },
  {
   "cell_type": "code",
   "execution_count": 71,
   "id": "e5b6f94c-6798-47f2-8460-9cb46eb1e829",
   "metadata": {
    "tags": []
   },
   "outputs": [],
   "source": [
    "diabetes_vars = diabetes_clean.drop(columns = ['Diabetes_Number'])"
   ]
  },
  {
   "cell_type": "markdown",
   "id": "fcdc0df8-163a-44df-9c4b-322a26f94b2d",
   "metadata": {
    "tags": []
   },
   "source": [
    "# Partition data"
   ]
  },
  {
   "cell_type": "code",
   "execution_count": 33,
   "id": "7b28c192",
   "metadata": {},
   "outputs": [],
   "source": [
    "# create y dataframe \n",
    "y = diabetes_clean['Diabetes_Number']"
   ]
  },
  {
   "cell_type": "code",
   "execution_count": 34,
   "id": "ef85db47-1caa-4854-8688-73c4666b3b25",
   "metadata": {
    "tags": []
   },
   "outputs": [],
   "source": [
    "# create X dataframe \n",
    "X = diabetes_clean.drop(columns=['Diabetes_Number'])"
   ]
  },
  {
   "cell_type": "code",
   "execution_count": 35,
   "id": "9e8fe149-31ca-490d-b0e2-2ec10d605a2f",
   "metadata": {
    "tags": []
   },
   "outputs": [],
   "source": [
    "# Training/test split\n",
    "#-----------\n",
    "\n",
    "# set the random seed\n",
    "np.random.seed(10)"
   ]
  },
  {
   "cell_type": "code",
   "execution_count": 36,
   "id": "398f0541",
   "metadata": {},
   "outputs": [],
   "source": [
    "# split the data so that it returns 4 values: X_train, X_test, y_train, y_test\n",
    "X_train, X_test, y_train, y_test = train_test_split(X,                   # specify training dataset\n",
    "                                                    y,                   # specify test dataset\n",
    "                                                    train_size=0.8,      # specify proportional split for training\n",
    "                                                    test_size=0.2)       # specify proportional split for test"
   ]
  },
  {
   "cell_type": "code",
   "execution_count": 37,
   "id": "dfffcf89-07da-45e0-9cb0-b629f828a2a2",
   "metadata": {
    "tags": []
   },
   "outputs": [
    {
     "name": "stdout",
     "output_type": "stream",
     "text": [
      "Shape of X train is (2489, 79)\n",
      "Shape of y_train is (2489,)\n",
      "Shape of X_test is (623, 79)\n",
      "Shape of y_test is (623,)\n"
     ]
    }
   ],
   "source": [
    "# print shape of each newly created dataframe\n",
    "print(\"Shape of X train is\", X_train.shape)\n",
    "print(\"Shape of y_train is\", y_train.shape)\n",
    "print(\"Shape of X_test is\", X_test.shape)\n",
    "print(\"Shape of y_test is\", y_test.shape)"
   ]
  },
  {
   "cell_type": "code",
   "execution_count": 38,
   "id": "987b8243",
   "metadata": {},
   "outputs": [],
   "source": [
    "# Validation split\n",
    "#-----------\n",
    "\n",
    "# train_test_split returns 4 values: X_train, X_test, y_train, y_test, so how do we create a 60-20-20 train-validate-test split?\n",
    "X_train, X_validate, y_train, y_validate = train_test_split(X_train,         # specify training x\n",
    "                                                            y_train,         # specify training y\n",
    "                                                            train_size=0.75, # set training proportional spilt\n",
    "                                                            test_size=0.25)  # set testing proportional split"
   ]
  },
  {
   "cell_type": "code",
   "execution_count": 39,
   "id": "82540aa0-4804-4ade-b5c2-c819ff355337",
   "metadata": {
    "tags": []
   },
   "outputs": [
    {
     "name": "stdout",
     "output_type": "stream",
     "text": [
      "Shape of X train is (1866, 79)\n",
      "Shape of X_validate is (623, 79)\n",
      "Shape of X_test is (623, 79)\n"
     ]
    }
   ],
   "source": [
    "# print shape of each newly created dataframe\n",
    "print(\"Shape of X train is\", X_train.shape)\n",
    "print(\"Shape of X_validate is\", X_validate.shape)\n",
    "print(\"Shape of X_test is\", X_test.shape)"
   ]
  },
  {
   "cell_type": "markdown",
   "id": "d32a686d-ea35-447d-96e2-e4645813d880",
   "metadata": {},
   "source": [
    "Note on when to standardize: The best time to standardize the data is AFTER the training/validation/test split to avoid any information from the test data making its way into the training data (i.e. to avoid a leakage). Let's remember that the ultimate goal is to try the trained model within a new set of data (i.e. in this case making a diabetes prediction for so far unobserved county). If we standardize before the split, then information about the supposedly unknown sample will be contained in the standardized training data."
   ]
  },
  {
   "cell_type": "code",
   "execution_count": 40,
   "id": "b6cc8a04",
   "metadata": {},
   "outputs": [],
   "source": [
    "# Standardization\n",
    "#-----------\n",
    "# Given that we want to only standardize non-dichotomous variables, we need to find a \n",
    "# solution that will loop over only the columns we want to standardize. The code below\n",
    "# identifies all non-dichotomous variables in our dataset and only standardizes those.\n",
    "\n",
    "# load library and create instance of Standard Scaler \n",
    "from sklearn.preprocessing import StandardScaler\n",
    "scaler = StandardScaler()\n",
    "\n",
    "# identify non-dichotomous columns we want to transform\n",
    "columns = list(X_test.select_dtypes(include=['number']).loc[:, X_test.nunique() > 2])"
   ]
  },
  {
   "cell_type": "code",
   "execution_count": 41,
   "id": "d0b0cfbd-8697-49b1-a98e-8a7be216bb3b",
   "metadata": {
    "tags": []
   },
   "outputs": [],
   "source": [
    "# use loop to transform training data for only columns we want to transform\n",
    "for column in columns:\n",
    "    X_train[column] = scaler.fit_transform(X_train[column].values.reshape(-1, 1)).flatten()\n",
    "    \n",
    "    # use loop to transform validation data for only columns we want to transform\n",
    "for column in columns:\n",
    "    X_validate[column] = scaler.fit_transform(X_validate[column].values.reshape(-1, 1)).flatten()\n",
    "\n",
    "# use loop to transform test data for only columns we want to transform\n",
    "for column in columns:\n",
    "    X_test[column] = scaler.fit_transform(X_test[column].values.reshape(-1, 1)).flatten()\n"
   ]
  },
  {
   "cell_type": "markdown",
   "id": "73e762cb",
   "metadata": {},
   "source": [
    "## 4. Train Models\n",
    "\n",
    "In this section, train your models. \n",
    "\n",
    "**Note that if you use Lasso, you will likely need to specify a very high penalty (very low, like alpha of 0.001) because of convergence problems.**"
   ]
  },
  {
   "cell_type": "markdown",
   "id": "f1836726",
   "metadata": {},
   "source": [
    "### 4.1 Describe models\n",
    "\n",
    "Detail the basic logic and assumptions underlying each model, its pros/cons, and why it is a plausible choice for this problem."
   ]
  },
  {
   "cell_type": "markdown",
   "id": "0f3818c2",
   "metadata": {},
   "source": [
    "**MODEL DESCRIPTION(S):\n",
    "\n",
    "** OLS: Given that this prediction is for a continuous outcome, we'll try the traditional OLS regression. \n",
    "\n",
    "Pros: \n",
    "** coefficients easily interpretable\n",
    "** if assumptions are met, it's efficient\n",
    "\n",
    "Cons: \n",
    "** by using OLS we're making the assumption that the relationship between the IV and DV is linear, which may not be the case, and if it's not the case we will give inaccurate results\n",
    "** OLS is sensitive to outliers in the data\n",
    "** it might not perform so well in this case, as regression is optimized for inference and not prediction (lower traning error, higher test error).\n",
    "** no feature selectionCons: \n",
    "** by using OLS we're making the assumption that the relationship between the IV and DV is linear, which may not be the case, and if it's not the case we will give inaccurate results\n",
    "** OLS is sensitive to outliers in the data\n",
    "** it might not perform so well in this case, as regression is optimized for inference and not prediction (lower traning error, higher test error).\n",
    "** no feature selection\n",
    "\n",
    "** LASSO\n",
    "\n",
    "Pros:\n",
    "** feature selection, which can simplify the model and reduce overfitting\n",
    "** by making the model simpler, it also makes it easier to interpret\n",
    "** useful when dealing with high-dimensional data, as is this dataset \n",
    "** Lasso's alpha can be fine-tuned using cross-validation, making it easy to find the optimal alpha for a specific dataset\n",
    "\n",
    "Cons: \n",
    "** requires standardization (which happens here, so it's not a problem)\n",
    "** might not always choose the most relevant features from a theoretic perspective, and if features are too correlated it might zero one out arbitrarily \n",
    "** not robust to outliers, and we have outliers in the data\n",
    "\n",
    "** KNN\n",
    "\n",
    "Pros: \n",
    "** does not assume linearity, does not make assumptions about the underlying data\n",
    "** easy to understand\n",
    "** it makes predictions based on local data, using the k-nearest neighbors which can be useful when the relationship between variables varies in different parts of the feature space. I guess we could say this applied to this dataset where observations are more likely to be similar in terms of multiple features within the same regions, for instance. \n",
    "** robust to outliers, especially when a small value of k is chosen \n",
    "\n",
    "Cons: \n",
    "** It's primarily a classification algorithm"
   ]
  },
  {
   "cell_type": "markdown",
   "id": "28b90463",
   "metadata": {},
   "source": [
    "### 4.2 Train models\n",
    "\n",
    "Train each model in the training set, and be sure to tune hyperparameters if appropriate. Report any relevant summary statistics from the training set, including how well each model fits the training data."
   ]
  },
  {
   "cell_type": "markdown",
   "id": "0d5fb8ca",
   "metadata": {},
   "source": [
    "#### Model 1 Training: OLS "
   ]
  },
  {
   "cell_type": "code",
   "execution_count": 42,
   "id": "7d3ddd2b",
   "metadata": {},
   "outputs": [],
   "source": [
    "# create model\n",
    "lin_reg = LinearRegression()"
   ]
  },
  {
   "cell_type": "code",
   "execution_count": 43,
   "id": "ec595163-6758-4d2a-886e-b3d0be26472b",
   "metadata": {
    "tags": []
   },
   "outputs": [],
   "source": [
    "lin_model = lin_reg.fit(X_train, y_train)"
   ]
  },
  {
   "cell_type": "code",
   "execution_count": 44,
   "id": "2d8ae06c-9b2a-404c-a344-54039b9c0394",
   "metadata": {
    "tags": []
   },
   "outputs": [],
   "source": [
    "## Tuning hyperparameters\n",
    "\n",
    "# specify the hyperparameters\n",
    "param_grid = {'fit_intercept': [True, False]}            # use dictionary for tuning\n",
    "\n",
    "# execute the grid search\n",
    "lin_grid_reg = GridSearchCV(estimator  = lin_reg,        # model to be tuned\n",
    "                            param_grid = param_grid,     # parameters to be searched as specified above\n",
    "                            cv=3,                        # 3-fold cross-validation to be used during hypertuning\n",
    "                            refit = True)"
   ]
  },
  {
   "cell_type": "code",
   "execution_count": 45,
   "id": "845e4ae3-41d5-4102-975f-54f6f4a5bcb0",
   "metadata": {
    "tags": []
   },
   "outputs": [
    {
     "data": {
      "text/html": [
       "<style>#sk-container-id-1 {color: black;}#sk-container-id-1 pre{padding: 0;}#sk-container-id-1 div.sk-toggleable {background-color: white;}#sk-container-id-1 label.sk-toggleable__label {cursor: pointer;display: block;width: 100%;margin-bottom: 0;padding: 0.3em;box-sizing: border-box;text-align: center;}#sk-container-id-1 label.sk-toggleable__label-arrow:before {content: \"▸\";float: left;margin-right: 0.25em;color: #696969;}#sk-container-id-1 label.sk-toggleable__label-arrow:hover:before {color: black;}#sk-container-id-1 div.sk-estimator:hover label.sk-toggleable__label-arrow:before {color: black;}#sk-container-id-1 div.sk-toggleable__content {max-height: 0;max-width: 0;overflow: hidden;text-align: left;background-color: #f0f8ff;}#sk-container-id-1 div.sk-toggleable__content pre {margin: 0.2em;color: black;border-radius: 0.25em;background-color: #f0f8ff;}#sk-container-id-1 input.sk-toggleable__control:checked~div.sk-toggleable__content {max-height: 200px;max-width: 100%;overflow: auto;}#sk-container-id-1 input.sk-toggleable__control:checked~label.sk-toggleable__label-arrow:before {content: \"▾\";}#sk-container-id-1 div.sk-estimator input.sk-toggleable__control:checked~label.sk-toggleable__label {background-color: #d4ebff;}#sk-container-id-1 div.sk-label input.sk-toggleable__control:checked~label.sk-toggleable__label {background-color: #d4ebff;}#sk-container-id-1 input.sk-hidden--visually {border: 0;clip: rect(1px 1px 1px 1px);clip: rect(1px, 1px, 1px, 1px);height: 1px;margin: -1px;overflow: hidden;padding: 0;position: absolute;width: 1px;}#sk-container-id-1 div.sk-estimator {font-family: monospace;background-color: #f0f8ff;border: 1px dotted black;border-radius: 0.25em;box-sizing: border-box;margin-bottom: 0.5em;}#sk-container-id-1 div.sk-estimator:hover {background-color: #d4ebff;}#sk-container-id-1 div.sk-parallel-item::after {content: \"\";width: 100%;border-bottom: 1px solid gray;flex-grow: 1;}#sk-container-id-1 div.sk-label:hover label.sk-toggleable__label {background-color: #d4ebff;}#sk-container-id-1 div.sk-serial::before {content: \"\";position: absolute;border-left: 1px solid gray;box-sizing: border-box;top: 0;bottom: 0;left: 50%;z-index: 0;}#sk-container-id-1 div.sk-serial {display: flex;flex-direction: column;align-items: center;background-color: white;padding-right: 0.2em;padding-left: 0.2em;position: relative;}#sk-container-id-1 div.sk-item {position: relative;z-index: 1;}#sk-container-id-1 div.sk-parallel {display: flex;align-items: stretch;justify-content: center;background-color: white;position: relative;}#sk-container-id-1 div.sk-item::before, #sk-container-id-1 div.sk-parallel-item::before {content: \"\";position: absolute;border-left: 1px solid gray;box-sizing: border-box;top: 0;bottom: 0;left: 50%;z-index: -1;}#sk-container-id-1 div.sk-parallel-item {display: flex;flex-direction: column;z-index: 1;position: relative;background-color: white;}#sk-container-id-1 div.sk-parallel-item:first-child::after {align-self: flex-end;width: 50%;}#sk-container-id-1 div.sk-parallel-item:last-child::after {align-self: flex-start;width: 50%;}#sk-container-id-1 div.sk-parallel-item:only-child::after {width: 0;}#sk-container-id-1 div.sk-dashed-wrapped {border: 1px dashed gray;margin: 0 0.4em 0.5em 0.4em;box-sizing: border-box;padding-bottom: 0.4em;background-color: white;}#sk-container-id-1 div.sk-label label {font-family: monospace;font-weight: bold;display: inline-block;line-height: 1.2em;}#sk-container-id-1 div.sk-label-container {text-align: center;}#sk-container-id-1 div.sk-container {/* jupyter's `normalize.less` sets `[hidden] { display: none; }` but bootstrap.min.css set `[hidden] { display: none !important; }` so we also need the `!important` here to be able to override the default hidden behavior on the sphinx rendered scikit-learn.org. See: https://github.com/scikit-learn/scikit-learn/issues/21755 */display: inline-block !important;position: relative;}#sk-container-id-1 div.sk-text-repr-fallback {display: none;}</style><div id=\"sk-container-id-1\" class=\"sk-top-container\"><div class=\"sk-text-repr-fallback\"><pre>GridSearchCV(cv=3, estimator=LinearRegression(),\n",
       "             param_grid={&#x27;fit_intercept&#x27;: [True, False]})</pre><b>In a Jupyter environment, please rerun this cell to show the HTML representation or trust the notebook. <br />On GitHub, the HTML representation is unable to render, please try loading this page with nbviewer.org.</b></div><div class=\"sk-container\" hidden><div class=\"sk-item sk-dashed-wrapped\"><div class=\"sk-label-container\"><div class=\"sk-label sk-toggleable\"><input class=\"sk-toggleable__control sk-hidden--visually\" id=\"sk-estimator-id-1\" type=\"checkbox\" ><label for=\"sk-estimator-id-1\" class=\"sk-toggleable__label sk-toggleable__label-arrow\">GridSearchCV</label><div class=\"sk-toggleable__content\"><pre>GridSearchCV(cv=3, estimator=LinearRegression(),\n",
       "             param_grid={&#x27;fit_intercept&#x27;: [True, False]})</pre></div></div></div><div class=\"sk-parallel\"><div class=\"sk-parallel-item\"><div class=\"sk-item\"><div class=\"sk-label-container\"><div class=\"sk-label sk-toggleable\"><input class=\"sk-toggleable__control sk-hidden--visually\" id=\"sk-estimator-id-2\" type=\"checkbox\" ><label for=\"sk-estimator-id-2\" class=\"sk-toggleable__label sk-toggleable__label-arrow\">estimator: LinearRegression</label><div class=\"sk-toggleable__content\"><pre>LinearRegression()</pre></div></div></div><div class=\"sk-serial\"><div class=\"sk-item\"><div class=\"sk-estimator sk-toggleable\"><input class=\"sk-toggleable__control sk-hidden--visually\" id=\"sk-estimator-id-3\" type=\"checkbox\" ><label for=\"sk-estimator-id-3\" class=\"sk-toggleable__label sk-toggleable__label-arrow\">LinearRegression</label><div class=\"sk-toggleable__content\"><pre>LinearRegression()</pre></div></div></div></div></div></div></div></div></div></div>"
      ],
      "text/plain": [
       "GridSearchCV(cv=3, estimator=LinearRegression(),\n",
       "             param_grid={'fit_intercept': [True, False]})"
      ]
     },
     "execution_count": 45,
     "metadata": {},
     "output_type": "execute_result"
    }
   ],
   "source": [
    "# now fit the tuning on the training data\n",
    "lin_grid_reg.fit(X_train, y_train)"
   ]
  },
  {
   "cell_type": "code",
   "execution_count": 46,
   "id": "239afca6-36a3-4f37-b3a1-70d53a10be76",
   "metadata": {
    "tags": []
   },
   "outputs": [],
   "source": [
    "# select the best performing model and predict with that on validation dataset\n",
    "best_index = np.argmax(lin_grid_reg.cv_results_[\"mean_test_score\"])  # find the best performing model\n",
    "best_lin_pred = lin_grid_reg.best_estimator_.predict(X_validate)     # find best estimator and predict on validate"
   ]
  },
  {
   "cell_type": "markdown",
   "id": "5988697f",
   "metadata": {},
   "source": [
    "#### Model 2 Training: LASSO"
   ]
  },
  {
   "cell_type": "code",
   "execution_count": 47,
   "id": "fcea9bce",
   "metadata": {},
   "outputs": [],
   "source": [
    "# create model\n",
    "lasso_reg = Lasso(max_iter=15000, alpha=.001)  # note the hypterparameter tuning will not converge with max_iter < 15000\n",
    "\n",
    "## fit model \n",
    "lasso_model = lasso_reg.fit(X_train, \n",
    "                            y_train)"
   ]
  },
  {
   "cell_type": "markdown",
   "id": "9fb1f5e8",
   "metadata": {},
   "source": [
    "#### Model 3 Training: KNN "
   ]
  },
  {
   "cell_type": "code",
   "execution_count": 48,
   "id": "b3e375f4",
   "metadata": {},
   "outputs": [],
   "source": [
    "# Create a KNN regression model with the desired number of neighbors (k)\n",
    "k = 5\n",
    "knn_regressor = KNeighborsRegressor(n_neighbors=k)"
   ]
  },
  {
   "cell_type": "code",
   "execution_count": 49,
   "id": "8c9d8bbc-7405-48e8-93d6-dd7488643ba3",
   "metadata": {
    "tags": []
   },
   "outputs": [],
   "source": [
    "# Fit model \n",
    "knn_model = knn_regressor.fit(X_train, y_train)"
   ]
  },
  {
   "cell_type": "markdown",
   "id": "02711ee5",
   "metadata": {},
   "source": [
    "## 5. Validate and Refine Models"
   ]
  },
  {
   "cell_type": "markdown",
   "id": "8c7738d9",
   "metadata": {},
   "source": [
    "### 5.1 Predict on the validation set\n",
    "Using each of the models you trained, predict outcomes in the validation set. Evaluate how well each model did."
   ]
  },
  {
   "cell_type": "markdown",
   "id": "f38041eb-5b09-43f4-a7c2-25bc910c3e59",
   "metadata": {},
   "source": [
    "#### Model 1 Predict on Validation Set OLS"
   ]
  },
  {
   "cell_type": "code",
   "execution_count": 50,
   "id": "e253a482",
   "metadata": {},
   "outputs": [],
   "source": [
    "# using the validation dataset and the trained model, predict y\n",
    "lin_pred = lin_grid_reg.predict(X_validate)"
   ]
  },
  {
   "cell_type": "code",
   "execution_count": 74,
   "id": "659a09d5-0d7a-450e-990d-6d8534ef7797",
   "metadata": {},
   "outputs": [
    {
     "data": {
      "text/plain": [
       "[<matplotlib.lines.Line2D at 0x1269bef90>]"
      ]
     },
     "execution_count": 74,
     "metadata": {},
     "output_type": "execute_result"
    },
    {
     "data": {
      "image/png": "[encoded data removed]",
      "text/plain": [
       "<Figure size 640x480 with 1 Axes>"
      ]
     },
     "metadata": {},
     "output_type": "display_data"
    }
   ],
   "source": [
    "# Plot the residuals on a scatter plot \n",
    "\n",
    "plt.scatter(y_validate, lin_pred)                    # specify x and y of the scatter plot\n",
    "plt.title('Linear Model (OLS) Predicted v. Actual')  # specify plot title\n",
    "plt.xlabel('actual value')                           # specify x-axis label\n",
    "plt.ylabel('predicted value')                        # specify y-axis label\n",
    "\n",
    "# Calculate the line of best fit (regression line)\n",
    "slope, intercept = np.polyfit(y_validate, lin_pred, 1)\n",
    "\n",
    "# Create the fitted line\n",
    "fit_line = slope * np.array(y_validate) + intercept\n",
    "\n",
    "# Plot the fitted line\n",
    "plt.plot(y_validate, fit_line, color='red', linestyle='--')# show plot"
   ]
  },
  {
   "cell_type": "markdown",
   "id": "4c506044-0b77-49aa-ad81-2cb8475c5a55",
   "metadata": {},
   "source": [
    "Interpretation: For our model to be completely accurate this should have a slope of 1, so this is not very accurate. It might be because there are still many variables in the dataset with potential to cause multicollinearity which OLS does not handle well. "
   ]
  },
  {
   "cell_type": "code",
   "execution_count": 52,
   "id": "0f1a885d-85cd-4fd8-b64c-8284e6843139",
   "metadata": {
    "tags": []
   },
   "outputs": [
    {
     "name": "stdout",
     "output_type": "stream",
     "text": [
      "Validation R^2: -1.7835615246000267e+23\n",
      "Validation RMSE 10991256783.874277\n"
     ]
    }
   ],
   "source": [
    "# create function to calculate the root mean squared errror\n",
    "def rmse(pred, actual):\n",
    "    return np.sqrt(np.mean((pred - actual) ** 2))\n",
    "\n",
    "# print the results  \n",
    "print('Validation R^2:', lin_grid_reg.score(X_validate, y_validate))\n",
    "print('Validation RMSE', rmse(best_lin_pred, y_validate))"
   ]
  },
  {
   "cell_type": "markdown",
   "id": "612cf889-7774-465e-81c9-0bf3d98c1484",
   "metadata": {},
   "source": [
    "#### Model 2 Predict on Validation Set LASSO"
   ]
  },
  {
   "cell_type": "code",
   "execution_count": 53,
   "id": "13cee2ac-d5dc-456a-92c4-c322b3128a3c",
   "metadata": {
    "tags": []
   },
   "outputs": [],
   "source": [
    "# using the validation dataset and the trained model, predict y\n",
    "lasso_pred = lasso_model.predict(X_validate)"
   ]
  },
  {
   "cell_type": "code",
   "execution_count": 72,
   "id": "03d97287-40dc-4574-91e3-3f914e9a5877",
   "metadata": {
    "tags": []
   },
   "outputs": [
    {
     "data": {
      "image/png": "[encoded data removed]",
      "text/plain": [
       "<Figure size 640x480 with 1 Axes>"
      ]
     },
     "metadata": {},
     "output_type": "display_data"
    }
   ],
   "source": [
    "# Plot the residuals on a scatter plot \n",
    "plt.scatter(y_validate, lasso_pred)\n",
    "plt.title('LASSO Model')\n",
    "plt.xlabel('actual values')\n",
    "plt.ylabel('predicted values')\n",
    "\n",
    "# Calculate the line of best fit (regression line)\n",
    "slope, intercept = np.polyfit(y_validate, lasso_pred, 1)\n",
    "\n",
    "# Create the fitted line\n",
    "fit_line = slope * np.array(y_validate) + intercept\n",
    "\n",
    "# Plot the fitted line\n",
    "plt.plot(y_validate, fit_line, color='red', linestyle='--')\n",
    "\n",
    "# Show the plot\n",
    "plt.show()"
   ]
  },
  {
   "cell_type": "markdown",
   "id": "d493d256-ad14-4c5f-a6bd-66bb9b8d0ea0",
   "metadata": {},
   "source": [
    "Interpretation: LASSO is doing a better fit of the model. This fitted line is closer to a slope of 1. "
   ]
  },
  {
   "cell_type": "code",
   "execution_count": 55,
   "id": "2795b950-d536-4a01-a7ed-54593a6644b3",
   "metadata": {
    "tags": []
   },
   "outputs": [
    {
     "name": "stdout",
     "output_type": "stream",
     "text": [
      "Validation R^2: 0.45055812563689546\n",
      "Validation RMSE 0.01929141946200563\n"
     ]
    }
   ],
   "source": [
    "# print the results  \n",
    "print('Validation R^2:', lasso_model.score(X_validate, y_validate))\n",
    "print('Validation RMSE', rmse(lasso_pred, y_validate))"
   ]
  },
  {
   "cell_type": "markdown",
   "id": "0aab86c8-585d-4fd0-8d40-378276cce4f2",
   "metadata": {},
   "source": [
    "#### Model 2 Predict on Validation Set KNN"
   ]
  },
  {
   "cell_type": "code",
   "execution_count": 56,
   "id": "a36a44e8-c6f2-4554-bc9e-6a9f4c98452a",
   "metadata": {},
   "outputs": [],
   "source": [
    "# Make predictions on the validation data\n",
    "knn_pred = knn_regressor.predict(X_validate)"
   ]
  },
  {
   "cell_type": "code",
   "execution_count": 75,
   "id": "ebc2f9f3-8bd1-4639-bb01-f686ef90ee2d",
   "metadata": {},
   "outputs": [
    {
     "data": {
      "image/png": "[encoded data removed]",
      "text/plain": [
       "<Figure size 640x480 with 1 Axes>"
      ]
     },
     "metadata": {},
     "output_type": "display_data"
    }
   ],
   "source": [
    "# plot the predictions\n",
    "plt.scatter(y_validate, knn_pred)\n",
    "plt.title('KNN Model')\n",
    "plt.xlabel('actual values')\n",
    "plt.ylabel('predicted values')\n",
    "\n",
    "# Calculate the line of best fit (regression line)\n",
    "slope, intercept = np.polyfit(y_validate, knn_pred, 1)\n",
    "\n",
    "# Create the fitted line\n",
    "fit_line = slope * np.array(y_validate) + intercept\n",
    "\n",
    "# Plot the fitted line\n",
    "plt.plot(y_validate, fit_line, color='red', linestyle='--')\n",
    "\n",
    "# Show the plot\n",
    "plt.show()"
   ]
  },
  {
   "cell_type": "markdown",
   "id": "aa6d8acb-db2d-48a7-aadd-8ff4f1841a1d",
   "metadata": {},
   "source": [
    "Interpretation: Similarly to LASSO, this is also a better fit. "
   ]
  },
  {
   "cell_type": "code",
   "execution_count": 58,
   "id": "8bf6eed8-33d1-4173-b47b-4a6cb6372169",
   "metadata": {
    "tags": []
   },
   "outputs": [
    {
     "name": "stdout",
     "output_type": "stream",
     "text": [
      "Validation R^2: 0.30852003484340684\n",
      "Validation RMSE 0.03396645498116145\n"
     ]
    }
   ],
   "source": [
    "# RMSE\n",
    "rmse_knn = rmse(knn_pred,  # specify predicted values \n",
    "                y_test)    # specify actual values  \n",
    "\n",
    "# print the results  \n",
    "print('Validation R^2:', knn_model.score(X_validate, y_validate))\n",
    "print('Validation RMSE', rmse_knn)"
   ]
  },
  {
   "cell_type": "markdown",
   "id": "907e0621-cc09-40ea-83b0-7ecfa694e27f",
   "metadata": {},
   "source": [
    "#### Predict on test set using your best model\n",
    "\n",
    "LASSO is the best model with the highest R-squared and lowest RMSE. "
   ]
  },
  {
   "cell_type": "code",
   "execution_count": 59,
   "id": "b486a628-319f-42e7-8a7f-4044440a0db2",
   "metadata": {
    "tags": []
   },
   "outputs": [
    {
     "data": {
      "text/plain": [
       "['Obesity_Number',\n",
       " 'Physical_Inactivity_Number',\n",
       " 'race_total population_one race_american indian and alaska native_sioux tribal grouping',\n",
       " 'race_total population_one race_asian_asian indian',\n",
       " 'race_total population_one race_asian_other asian',\n",
       " 'race_total population_two or more races_white and asian',\n",
       " 'race alone or in combination with one or more other races_total population_white',\n",
       " 'hispanic or latino and race_total population_hispanic or latino (of any race)_other hispanic or latino',\n",
       " 'hispanic or latino and race_total population_not hispanic or latino_black or african american alone',\n",
       " 'citizen -  voting age population_citizen -  18 and over population_female',\n",
       " 'sex and age_total population_20 to 24 years',\n",
       " 'sex and age_total population_25 to 34 years',\n",
       " 'sex and age_total population_45 to 54 years',\n",
       " 'sex and age_total population_65 to 74 years',\n",
       " 'sex and age_total population_median age (years)',\n",
       " 'sex and age_total population_65 years and over_female']"
      ]
     },
     "execution_count": 59,
     "metadata": {},
     "output_type": "execute_result"
    }
   ],
   "source": [
    "# Get the coefficients and identify zero coefficients\n",
    "coefficients = lasso_model.coef_\n",
    "\n",
    "## zeroed-out features\n",
    "non_zeroed_out_features = [feature for feature, coefficient in zip(diabetes_vars, coefficients) if coefficient != 0]\n",
    "non_zeroed_out_features"
   ]
  },
  {
   "cell_type": "code",
   "execution_count": 60,
   "id": "58840265",
   "metadata": {},
   "outputs": [],
   "source": [
    "# Make predictions on the test set\n",
    "lasso_pred_test = lasso_model.predict(X_test)"
   ]
  },
  {
   "cell_type": "code",
   "execution_count": 61,
   "id": "ef2d7bb3-939f-4169-99c9-f9438565cf0c",
   "metadata": {
    "tags": []
   },
   "outputs": [
    {
     "name": "stdout",
     "output_type": "stream",
     "text": [
      "Mean Squared Error: 0.02061005320744946\n"
     ]
    }
   ],
   "source": [
    "# Estimate RMSE\n",
    "rmse_lasso_test = rmse(lasso_pred_test,  # specify predicted values \n",
    "                       y_test)                # specify actual values  \n",
    "\n",
    "print(f\"Mean Squared Error: {rmse_lasso_test}\")"
   ]
  },
  {
   "cell_type": "code",
   "execution_count": 76,
   "id": "586f66bd-ac16-4fc5-abc7-0d157940ba8b",
   "metadata": {
    "tags": []
   },
   "outputs": [
    {
     "data": {
      "image/png": "[encoded data removed]",
      "text/plain": [
       "<Figure size 640x480 with 1 Axes>"
      ]
     },
     "metadata": {},
     "output_type": "display_data"
    }
   ],
   "source": [
    "# plot the predictions\n",
    "plt.scatter(y_validate, lasso_pred_test)\n",
    "plt.title('LASSO Model')\n",
    "plt.xlabel('actual values')\n",
    "plt.ylabel('predicted values')\n",
    "\n",
    "# Calculate the line of best fit (regression line)\n",
    "slope, intercept = np.polyfit(y_validate, lasso_pred_test, 1)\n",
    "\n",
    "# Create the fitted line\n",
    "fit_line = slope * np.array(y_validate) + intercept\n",
    "\n",
    "# Plot the fitted line\n",
    "plt.plot(y_validate, fit_line, color='red', linestyle='--')\n",
    "\n",
    "# Show the plot\n",
    "plt.show()"
   ]
  },
  {
   "cell_type": "markdown",
   "id": "d8a776ed-6c55-47ee-aacb-2d837b3e54aa",
   "metadata": {},
   "source": [
    "Interpretation: LASSO doesn't do so as well on the test set as it does on the validation set. "
   ]
  },
  {
   "cell_type": "code",
   "execution_count": 78,
   "id": "47a7c344-e0fa-452f-882c-46d8cd1ca866",
   "metadata": {
    "tags": []
   },
   "outputs": [
    {
     "data": {
      "text/html": [
       "<div>\n",
       "<style scoped>\n",
       "    .dataframe tbody tr th:only-of-type {\n",
       "        vertical-align: middle;\n",
       "    }\n",
       "\n",
       "    .dataframe tbody tr th {\n",
       "        vertical-align: top;\n",
       "    }\n",
       "\n",
       "    .dataframe thead th {\n",
       "        text-align: right;\n",
       "    }\n",
       "</style>\n",
       "<table border=\"1\" class=\"dataframe\">\n",
       "  <thead>\n",
       "    <tr style=\"text-align: right;\">\n",
       "      <th></th>\n",
       "      <th>Coefficient</th>\n",
       "      <th>Feature</th>\n",
       "    </tr>\n",
       "  </thead>\n",
       "  <tbody>\n",
       "    <tr>\n",
       "      <th>1</th>\n",
       "      <td>0.008688</td>\n",
       "      <td>Physical_Inactivity_Number</td>\n",
       "    </tr>\n",
       "    <tr>\n",
       "      <th>0</th>\n",
       "      <td>0.007504</td>\n",
       "      <td>Obesity_Number</td>\n",
       "    </tr>\n",
       "    <tr>\n",
       "      <th>61</th>\n",
       "      <td>0.003744</td>\n",
       "      <td>sex and age_total population_65 to 74 years</td>\n",
       "    </tr>\n",
       "    <tr>\n",
       "      <th>39</th>\n",
       "      <td>0.003314</td>\n",
       "      <td>hispanic or latino and race_total population_not hispanic or latino_black or african american alone</td>\n",
       "    </tr>\n",
       "    <tr>\n",
       "      <th>49</th>\n",
       "      <td>0.000776</td>\n",
       "      <td>citizen -  voting age population_citizen -  18 and over population_female</td>\n",
       "    </tr>\n",
       "    <tr>\n",
       "      <th>58</th>\n",
       "      <td>0.000493</td>\n",
       "      <td>sex and age_total population_45 to 54 years</td>\n",
       "    </tr>\n",
       "    <tr>\n",
       "      <th>74</th>\n",
       "      <td>0.000097</td>\n",
       "      <td>sex and age_total population_65 years and over_female</td>\n",
       "    </tr>\n",
       "    <tr>\n",
       "      <th>9</th>\n",
       "      <td>0.000023</td>\n",
       "      <td>race_total population_one race_american indian and alaska native_sioux tribal grouping</td>\n",
       "    </tr>\n",
       "    <tr>\n",
       "      <th>4</th>\n",
       "      <td>-0.0</td>\n",
       "      <td>race_total population_one race</td>\n",
       "    </tr>\n",
       "    <tr>\n",
       "      <th>50</th>\n",
       "      <td>-0.0</td>\n",
       "      <td>sex and age_total population_male</td>\n",
       "    </tr>\n",
       "    <tr>\n",
       "      <th>57</th>\n",
       "      <td>0.0</td>\n",
       "      <td>sex and age_total population_35 to 44 years</td>\n",
       "    </tr>\n",
       "    <tr>\n",
       "      <th>54</th>\n",
       "      <td>0.0</td>\n",
       "      <td>sex and age_total population_15 to 19 years</td>\n",
       "    </tr>\n",
       "    <tr>\n",
       "      <th>53</th>\n",
       "      <td>0.0</td>\n",
       "      <td>sex and age_total population_10 to 14 years</td>\n",
       "    </tr>\n",
       "    <tr>\n",
       "      <th>52</th>\n",
       "      <td>-0.0</td>\n",
       "      <td>sex and age_total population_5 to 9 years</td>\n",
       "    </tr>\n",
       "    <tr>\n",
       "      <th>51</th>\n",
       "      <td>-0.0</td>\n",
       "      <td>sex and age_total population_sex ratio (males per 100 females)</td>\n",
       "    </tr>\n",
       "    <tr>\n",
       "      <th>48</th>\n",
       "      <td>-0.0</td>\n",
       "      <td>citizen -  voting age population_citizen -  18 and over population_male</td>\n",
       "    </tr>\n",
       "    <tr>\n",
       "      <th>60</th>\n",
       "      <td>-0.0</td>\n",
       "      <td>sex and age_total population_60 to 64 years</td>\n",
       "    </tr>\n",
       "    <tr>\n",
       "      <th>47</th>\n",
       "      <td>0.0</td>\n",
       "      <td>citizen -  voting age population_citizen -  18 and over population</td>\n",
       "    </tr>\n",
       "    <tr>\n",
       "      <th>46</th>\n",
       "      <td>-0.0</td>\n",
       "      <td>total housing units</td>\n",
       "    </tr>\n",
       "    <tr>\n",
       "      <th>45</th>\n",
       "      <td>0.0</td>\n",
       "      <td>hispanic or latino and race_total population_not hispanic or latino_two or more races_two races excluding some other race -  and three or more races</td>\n",
       "    </tr>\n",
       "    <tr>\n",
       "      <th>44</th>\n",
       "      <td>0.0</td>\n",
       "      <td>hispanic or latino and race_total population_not hispanic or latino_two or more races</td>\n",
       "    </tr>\n",
       "    <tr>\n",
       "      <th>43</th>\n",
       "      <td>-0.0</td>\n",
       "      <td>hispanic or latino and race_total population_not hispanic or latino_some other race alone</td>\n",
       "    </tr>\n",
       "    <tr>\n",
       "      <th>59</th>\n",
       "      <td>0.0</td>\n",
       "      <td>sex and age_total population_55 to 59 years</td>\n",
       "    </tr>\n",
       "    <tr>\n",
       "      <th>2</th>\n",
       "      <td>-0.0</td>\n",
       "      <td>sex and age_total population_65 years and over_sex ratio (males per 100 females)</td>\n",
       "    </tr>\n",
       "    <tr>\n",
       "      <th>5</th>\n",
       "      <td>-0.0</td>\n",
       "      <td>race_total population_one race_white</td>\n",
       "    </tr>\n",
       "    <tr>\n",
       "      <th>62</th>\n",
       "      <td>0.0</td>\n",
       "      <td>sex and age_total population_75 to 84 years</td>\n",
       "    </tr>\n",
       "    <tr>\n",
       "      <th>63</th>\n",
       "      <td>-0.0</td>\n",
       "      <td>sex and age_total population_85 years and over</td>\n",
       "    </tr>\n",
       "    <tr>\n",
       "      <th>65</th>\n",
       "      <td>0.0</td>\n",
       "      <td>sex and age_total population_16 years and over</td>\n",
       "    </tr>\n",
       "    <tr>\n",
       "      <th>66</th>\n",
       "      <td>0.0</td>\n",
       "      <td>sex and age_total population_18 years and over</td>\n",
       "    </tr>\n",
       "    <tr>\n",
       "      <th>67</th>\n",
       "      <td>0.0</td>\n",
       "      <td>sex and age_total population_21 years and over</td>\n",
       "    </tr>\n",
       "    <tr>\n",
       "      <th>68</th>\n",
       "      <td>0.0</td>\n",
       "      <td>sex and age_total population_62 years and over</td>\n",
       "    </tr>\n",
       "    <tr>\n",
       "      <th>69</th>\n",
       "      <td>0.0</td>\n",
       "      <td>sex and age_total population_65 years and over</td>\n",
       "    </tr>\n",
       "    <tr>\n",
       "      <th>70</th>\n",
       "      <td>-0.0</td>\n",
       "      <td>sex and age_total population_18 years and over_male</td>\n",
       "    </tr>\n",
       "    <tr>\n",
       "      <th>71</th>\n",
       "      <td>0.0</td>\n",
       "      <td>sex and age_total population_18 years and over_female</td>\n",
       "    </tr>\n",
       "    <tr>\n",
       "      <th>72</th>\n",
       "      <td>-0.0</td>\n",
       "      <td>sex and age_total population_18 years and over_sex ratio (males per 100 females)</td>\n",
       "    </tr>\n",
       "    <tr>\n",
       "      <th>73</th>\n",
       "      <td>0.0</td>\n",
       "      <td>sex and age_total population_65 years and over_male</td>\n",
       "    </tr>\n",
       "    <tr>\n",
       "      <th>75</th>\n",
       "      <td>-0.0</td>\n",
       "      <td>Northeast</td>\n",
       "    </tr>\n",
       "    <tr>\n",
       "      <th>76</th>\n",
       "      <td>0.0</td>\n",
       "      <td>South</td>\n",
       "    </tr>\n",
       "    <tr>\n",
       "      <th>77</th>\n",
       "      <td>0.0</td>\n",
       "      <td>Southeast</td>\n",
       "    </tr>\n",
       "    <tr>\n",
       "      <th>42</th>\n",
       "      <td>0.0</td>\n",
       "      <td>hispanic or latino and race_total population_not hispanic or latino_native hawaiian and other pacific islander alone</td>\n",
       "    </tr>\n",
       "    <tr>\n",
       "      <th>41</th>\n",
       "      <td>-0.0</td>\n",
       "      <td>hispanic or latino and race_total population_not hispanic or latino_asian alone</td>\n",
       "    </tr>\n",
       "    <tr>\n",
       "      <th>40</th>\n",
       "      <td>0.0</td>\n",
       "      <td>hispanic or latino and race_total population_not hispanic or latino_american indian and alaska native alone</td>\n",
       "    </tr>\n",
       "    <tr>\n",
       "      <th>15</th>\n",
       "      <td>-0.0</td>\n",
       "      <td>race_total population_one race_asian_korean</td>\n",
       "    </tr>\n",
       "    <tr>\n",
       "      <th>22</th>\n",
       "      <td>0.0</td>\n",
       "      <td>race_total population_two or more races_white and black or african american</td>\n",
       "    </tr>\n",
       "    <tr>\n",
       "      <th>21</th>\n",
       "      <td>-0.0</td>\n",
       "      <td>race_total population_one race_some other race</td>\n",
       "    </tr>\n",
       "    <tr>\n",
       "      <th>20</th>\n",
       "      <td>0.0</td>\n",
       "      <td>race_total population_one race_native hawaiian and other pacific islander_guamanian or chamorro</td>\n",
       "    </tr>\n",
       "    <tr>\n",
       "      <th>19</th>\n",
       "      <td>0.0</td>\n",
       "      <td>race_total population_one race_native hawaiian and other pacific islander_native hawaiian</td>\n",
       "    </tr>\n",
       "    <tr>\n",
       "      <th>18</th>\n",
       "      <td>0.0</td>\n",
       "      <td>race_total population_one race_native hawaiian and other pacific islander</td>\n",
       "    </tr>\n",
       "    <tr>\n",
       "      <th>16</th>\n",
       "      <td>-0.0</td>\n",
       "      <td>race_total population_one race_asian_vietnamese</td>\n",
       "    </tr>\n",
       "    <tr>\n",
       "      <th>14</th>\n",
       "      <td>0.0</td>\n",
       "      <td>race_total population_one race_asian_japanese</td>\n",
       "    </tr>\n",
       "    <tr>\n",
       "      <th>25</th>\n",
       "      <td>-0.0</td>\n",
       "      <td>race_total population_two or more races_black or african american and american indian and alaska native</td>\n",
       "    </tr>\n",
       "    <tr>\n",
       "      <th>13</th>\n",
       "      <td>-0.0</td>\n",
       "      <td>race_total population_one race_asian_filipino</td>\n",
       "    </tr>\n",
       "    <tr>\n",
       "      <th>12</th>\n",
       "      <td>-0.0</td>\n",
       "      <td>race_total population_one race_asian_chinese</td>\n",
       "    </tr>\n",
       "    <tr>\n",
       "      <th>10</th>\n",
       "      <td>-0.0</td>\n",
       "      <td>race_total population_one race_asian</td>\n",
       "    </tr>\n",
       "    <tr>\n",
       "      <th>8</th>\n",
       "      <td>0.0</td>\n",
       "      <td>race_total population_one race_american indian and alaska native_navajo tribal grouping</td>\n",
       "    </tr>\n",
       "    <tr>\n",
       "      <th>7</th>\n",
       "      <td>0.0</td>\n",
       "      <td>race_total population_one race_american indian and alaska native</td>\n",
       "    </tr>\n",
       "    <tr>\n",
       "      <th>6</th>\n",
       "      <td>0.0</td>\n",
       "      <td>race_total population_one race_black or african american</td>\n",
       "    </tr>\n",
       "    <tr>\n",
       "      <th>3</th>\n",
       "      <td>-0.0</td>\n",
       "      <td>race_total population</td>\n",
       "    </tr>\n",
       "    <tr>\n",
       "      <th>23</th>\n",
       "      <td>0.0</td>\n",
       "      <td>race_total population_two or more races_white and american indian and alaska native</td>\n",
       "    </tr>\n",
       "    <tr>\n",
       "      <th>31</th>\n",
       "      <td>-0.0</td>\n",
       "      <td>race alone or in combination with one or more other races_total population_some other race</td>\n",
       "    </tr>\n",
       "    <tr>\n",
       "      <th>30</th>\n",
       "      <td>0.0</td>\n",
       "      <td>race alone or in combination with one or more other races_total population_native hawaiian and other pacific islander</td>\n",
       "    </tr>\n",
       "    <tr>\n",
       "      <th>38</th>\n",
       "      <td>-0.0</td>\n",
       "      <td>hispanic or latino and race_total population_not hispanic or latino_white alone</td>\n",
       "    </tr>\n",
       "    <tr>\n",
       "      <th>37</th>\n",
       "      <td>0.0</td>\n",
       "      <td>hispanic or latino and race_total population_not hispanic or latino</td>\n",
       "    </tr>\n",
       "    <tr>\n",
       "      <th>35</th>\n",
       "      <td>-0.0</td>\n",
       "      <td>hispanic or latino and race_total population_hispanic or latino (of any race)_cuban</td>\n",
       "    </tr>\n",
       "    <tr>\n",
       "      <th>34</th>\n",
       "      <td>-0.0</td>\n",
       "      <td>hispanic or latino and race_total population_hispanic or latino (of any race)_puerto rican</td>\n",
       "    </tr>\n",
       "    <tr>\n",
       "      <th>33</th>\n",
       "      <td>0.0</td>\n",
       "      <td>hispanic or latino and race_total population_hispanic or latino (of any race)_mexican</td>\n",
       "    </tr>\n",
       "    <tr>\n",
       "      <th>32</th>\n",
       "      <td>-0.0</td>\n",
       "      <td>hispanic or latino and race_total population_hispanic or latino (of any race)</td>\n",
       "    </tr>\n",
       "    <tr>\n",
       "      <th>78</th>\n",
       "      <td>-0.0</td>\n",
       "      <td>West</td>\n",
       "    </tr>\n",
       "    <tr>\n",
       "      <th>29</th>\n",
       "      <td>-0.0</td>\n",
       "      <td>race alone or in combination with one or more other races_total population_asian</td>\n",
       "    </tr>\n",
       "    <tr>\n",
       "      <th>28</th>\n",
       "      <td>0.0</td>\n",
       "      <td>race alone or in combination with one or more other races_total population_american indian and alaska native</td>\n",
       "    </tr>\n",
       "    <tr>\n",
       "      <th>27</th>\n",
       "      <td>0.0</td>\n",
       "      <td>race alone or in combination with one or more other races_total population_black or african american</td>\n",
       "    </tr>\n",
       "    <tr>\n",
       "      <th>56</th>\n",
       "      <td>-0.00003</td>\n",
       "      <td>sex and age_total population_25 to 34 years</td>\n",
       "    </tr>\n",
       "    <tr>\n",
       "      <th>11</th>\n",
       "      <td>-0.000041</td>\n",
       "      <td>race_total population_one race_asian_asian indian</td>\n",
       "    </tr>\n",
       "    <tr>\n",
       "      <th>64</th>\n",
       "      <td>-0.000153</td>\n",
       "      <td>sex and age_total population_median age (years)</td>\n",
       "    </tr>\n",
       "    <tr>\n",
       "      <th>17</th>\n",
       "      <td>-0.000219</td>\n",
       "      <td>race_total population_one race_asian_other asian</td>\n",
       "    </tr>\n",
       "    <tr>\n",
       "      <th>55</th>\n",
       "      <td>-0.000341</td>\n",
       "      <td>sex and age_total population_20 to 24 years</td>\n",
       "    </tr>\n",
       "    <tr>\n",
       "      <th>36</th>\n",
       "      <td>-0.000519</td>\n",
       "      <td>hispanic or latino and race_total population_hispanic or latino (of any race)_other hispanic or latino</td>\n",
       "    </tr>\n",
       "    <tr>\n",
       "      <th>24</th>\n",
       "      <td>-0.001049</td>\n",
       "      <td>race_total population_two or more races_white and asian</td>\n",
       "    </tr>\n",
       "    <tr>\n",
       "      <th>26</th>\n",
       "      <td>-0.00329</td>\n",
       "      <td>race alone or in combination with one or more other races_total population_white</td>\n",
       "    </tr>\n",
       "  </tbody>\n",
       "</table>\n",
       "</div>"
      ],
      "text/plain": [
       "   Coefficient  \\\n",
       "1     0.008688   \n",
       "0     0.007504   \n",
       "61    0.003744   \n",
       "39    0.003314   \n",
       "49    0.000776   \n",
       "58    0.000493   \n",
       "74    0.000097   \n",
       "9     0.000023   \n",
       "4         -0.0   \n",
       "50        -0.0   \n",
       "57         0.0   \n",
       "54         0.0   \n",
       "53         0.0   \n",
       "52        -0.0   \n",
       "51        -0.0   \n",
       "48        -0.0   \n",
       "60        -0.0   \n",
       "47         0.0   \n",
       "46        -0.0   \n",
       "45         0.0   \n",
       "44         0.0   \n",
       "43        -0.0   \n",
       "59         0.0   \n",
       "2         -0.0   \n",
       "5         -0.0   \n",
       "62         0.0   \n",
       "63        -0.0   \n",
       "65         0.0   \n",
       "66         0.0   \n",
       "67         0.0   \n",
       "68         0.0   \n",
       "69         0.0   \n",
       "70        -0.0   \n",
       "71         0.0   \n",
       "72        -0.0   \n",
       "73         0.0   \n",
       "75        -0.0   \n",
       "76         0.0   \n",
       "77         0.0   \n",
       "42         0.0   \n",
       "41        -0.0   \n",
       "40         0.0   \n",
       "15        -0.0   \n",
       "22         0.0   \n",
       "21        -0.0   \n",
       "20         0.0   \n",
       "19         0.0   \n",
       "18         0.0   \n",
       "16        -0.0   \n",
       "14         0.0   \n",
       "25        -0.0   \n",
       "13        -0.0   \n",
       "12        -0.0   \n",
       "10        -0.0   \n",
       "8          0.0   \n",
       "7          0.0   \n",
       "6          0.0   \n",
       "3         -0.0   \n",
       "23         0.0   \n",
       "31        -0.0   \n",
       "30         0.0   \n",
       "38        -0.0   \n",
       "37         0.0   \n",
       "35        -0.0   \n",
       "34        -0.0   \n",
       "33         0.0   \n",
       "32        -0.0   \n",
       "78        -0.0   \n",
       "29        -0.0   \n",
       "28         0.0   \n",
       "27         0.0   \n",
       "56    -0.00003   \n",
       "11   -0.000041   \n",
       "64   -0.000153   \n",
       "17   -0.000219   \n",
       "55   -0.000341   \n",
       "36   -0.000519   \n",
       "24   -0.001049   \n",
       "26    -0.00329   \n",
       "\n",
       "                                                                                                                                                 Feature  \n",
       "1                                                                                                                             Physical_Inactivity_Number  \n",
       "0                                                                                                                                         Obesity_Number  \n",
       "61                                                                                                           sex and age_total population_65 to 74 years  \n",
       "39                                                   hispanic or latino and race_total population_not hispanic or latino_black or african american alone  \n",
       "49                                                                             citizen -  voting age population_citizen -  18 and over population_female  \n",
       "58                                                                                                           sex and age_total population_45 to 54 years  \n",
       "74                                                                                                 sex and age_total population_65 years and over_female  \n",
       "9                                                                 race_total population_one race_american indian and alaska native_sioux tribal grouping  \n",
       "4                                                                                                                         race_total population_one race  \n",
       "50                                                                                                                     sex and age_total population_male  \n",
       "57                                                                                                           sex and age_total population_35 to 44 years  \n",
       "54                                                                                                           sex and age_total population_15 to 19 years  \n",
       "53                                                                                                           sex and age_total population_10 to 14 years  \n",
       "52                                                                                                             sex and age_total population_5 to 9 years  \n",
       "51                                                                                        sex and age_total population_sex ratio (males per 100 females)  \n",
       "48                                                                               citizen -  voting age population_citizen -  18 and over population_male  \n",
       "60                                                                                                           sex and age_total population_60 to 64 years  \n",
       "47                                                                                    citizen -  voting age population_citizen -  18 and over population  \n",
       "46                                                                                                                                   total housing units  \n",
       "45  hispanic or latino and race_total population_not hispanic or latino_two or more races_two races excluding some other race -  and three or more races  \n",
       "44                                                                 hispanic or latino and race_total population_not hispanic or latino_two or more races  \n",
       "43                                                             hispanic or latino and race_total population_not hispanic or latino_some other race alone  \n",
       "59                                                                                                           sex and age_total population_55 to 59 years  \n",
       "2                                                                       sex and age_total population_65 years and over_sex ratio (males per 100 females)  \n",
       "5                                                                                                                   race_total population_one race_white  \n",
       "62                                                                                                           sex and age_total population_75 to 84 years  \n",
       "63                                                                                                        sex and age_total population_85 years and over  \n",
       "65                                                                                                        sex and age_total population_16 years and over  \n",
       "66                                                                                                        sex and age_total population_18 years and over  \n",
       "67                                                                                                        sex and age_total population_21 years and over  \n",
       "68                                                                                                        sex and age_total population_62 years and over  \n",
       "69                                                                                                        sex and age_total population_65 years and over  \n",
       "70                                                                                                   sex and age_total population_18 years and over_male  \n",
       "71                                                                                                 sex and age_total population_18 years and over_female  \n",
       "72                                                                      sex and age_total population_18 years and over_sex ratio (males per 100 females)  \n",
       "73                                                                                                   sex and age_total population_65 years and over_male  \n",
       "75                                                                                                                                             Northeast  \n",
       "76                                                                                                                                                 South  \n",
       "77                                                                                                                                             Southeast  \n",
       "42                                  hispanic or latino and race_total population_not hispanic or latino_native hawaiian and other pacific islander alone  \n",
       "41                                                                       hispanic or latino and race_total population_not hispanic or latino_asian alone  \n",
       "40                                           hispanic or latino and race_total population_not hispanic or latino_american indian and alaska native alone  \n",
       "15                                                                                                           race_total population_one race_asian_korean  \n",
       "22                                                                           race_total population_two or more races_white and black or african american  \n",
       "21                                                                                                        race_total population_one race_some other race  \n",
       "20                                                       race_total population_one race_native hawaiian and other pacific islander_guamanian or chamorro  \n",
       "19                                                             race_total population_one race_native hawaiian and other pacific islander_native hawaiian  \n",
       "18                                                                             race_total population_one race_native hawaiian and other pacific islander  \n",
       "16                                                                                                       race_total population_one race_asian_vietnamese  \n",
       "14                                                                                                         race_total population_one race_asian_japanese  \n",
       "25                                               race_total population_two or more races_black or african american and american indian and alaska native  \n",
       "13                                                                                                         race_total population_one race_asian_filipino  \n",
       "12                                                                                                          race_total population_one race_asian_chinese  \n",
       "10                                                                                                                  race_total population_one race_asian  \n",
       "8                                                                race_total population_one race_american indian and alaska native_navajo tribal grouping  \n",
       "7                                                                                       race_total population_one race_american indian and alaska native  \n",
       "6                                                                                               race_total population_one race_black or african american  \n",
       "3                                                                                                                                  race_total population  \n",
       "23                                                                   race_total population_two or more races_white and american indian and alaska native  \n",
       "31                                                            race alone or in combination with one or more other races_total population_some other race  \n",
       "30                                 race alone or in combination with one or more other races_total population_native hawaiian and other pacific islander  \n",
       "38                                                                       hispanic or latino and race_total population_not hispanic or latino_white alone  \n",
       "37                                                                                   hispanic or latino and race_total population_not hispanic or latino  \n",
       "35                                                                   hispanic or latino and race_total population_hispanic or latino (of any race)_cuban  \n",
       "34                                                            hispanic or latino and race_total population_hispanic or latino (of any race)_puerto rican  \n",
       "33                                                                 hispanic or latino and race_total population_hispanic or latino (of any race)_mexican  \n",
       "32                                                                         hispanic or latino and race_total population_hispanic or latino (of any race)  \n",
       "78                                                                                                                                                  West  \n",
       "29                                                                      race alone or in combination with one or more other races_total population_asian  \n",
       "28                                          race alone or in combination with one or more other races_total population_american indian and alaska native  \n",
       "27                                                  race alone or in combination with one or more other races_total population_black or african american  \n",
       "56                                                                                                           sex and age_total population_25 to 34 years  \n",
       "11                                                                                                     race_total population_one race_asian_asian indian  \n",
       "64                                                                                                       sex and age_total population_median age (years)  \n",
       "17                                                                                                      race_total population_one race_asian_other asian  \n",
       "55                                                                                                           sex and age_total population_20 to 24 years  \n",
       "36                                                hispanic or latino and race_total population_hispanic or latino (of any race)_other hispanic or latino  \n",
       "24                                                                                               race_total population_two or more races_white and asian  \n",
       "26                                                                      race alone or in combination with one or more other races_total population_white  "
      ]
     },
     "metadata": {},
     "output_type": "display_data"
    }
   ],
   "source": [
    "# create a dataframe with the coefficient and feature names for plotting\n",
    "lasso_reg_data = pd.DataFrame([lasso_model.coef_, X.columns]).T  # create a dataframe from the estimates\n",
    "lasso_reg_data.columns = ['Coefficient', 'Feature']              # add column names for clarity\n",
    "\n",
    "with pd.option_context('display.max_colwidth', None):\n",
    "    display(lasso_reg_data.sort_values(by='Coefficient', ascending=False))"
   ]
  },
  {
   "cell_type": "markdown",
   "id": "7dd7967c-941a-4ae6-b799-c932abad33f1",
   "metadata": {},
   "source": [
    "## What is the advantage of using both validation and test sets in the social sciences and public policy?\n",
    "\n",
    "Having separate test and validation sets allows researchers to compare multiple models. You can train and validate different models on the validation set and select the best-performing model for further testing on the test set. This helps ensure that the model generalizes well to unseen data.\n",
    "\n",
    "The validation set can help identify overfitting. If a model performs really well on the training data but poorly on the validation set, it might be overfitting the training data, and you can take steps to fix this before you use your test set. In the same way, having a validation set allows for experimentation or parameter tuning to get the best possible model before using your test set. \n"
   ]
  },
  {
   "cell_type": "markdown",
   "id": "79689b2a",
   "metadata": {},
   "source": [
    "### 5.3 Implement a cross-validation approach\n",
    "\n",
    "Finally, implement a cross-validation approach for your best model and evaluate the results."
   ]
  },
  {
   "cell_type": "code",
   "execution_count": 64,
   "id": "31d8c9d6",
   "metadata": {},
   "outputs": [
    {
     "name": "stdout",
     "output_type": "stream",
     "text": [
      "Cross-validation RMSE 0.020600386321266175\n",
      "Cross-validation R2 Score 0.49166010940474214\n"
     ]
    }
   ],
   "source": [
    "# specify cross validation\n",
    "y_pred = cross_val_predict(estimator = lasso_model,           # specifcy object that is implementing fit \n",
    "                             X = X_train,                     # features\n",
    "                             y = y_train,                     # target variable \n",
    "                             cv = 3)    # how many folds\n",
    "\n",
    "from sklearn.metrics import mean_squared_error\n",
    "from sklearn.metrics import r2_score\n",
    "\n",
    "# Evaluate the predictions\n",
    "rmse = np.sqrt(mean_squared_error(y_train, y_pred))\n",
    "print('Cross-validation RMSE', rmse)\n",
    "\n",
    "r2_score = r2_score(y_train, y_pred)\n",
    "print('Cross-validation R2 Score', r2_score)"
   ]
  },
  {
   "cell_type": "code",
   "execution_count": 65,
   "id": "0be354ae-7d07-440f-8ba9-0eaf6fac1f77",
   "metadata": {
    "tags": []
   },
   "outputs": [],
   "source": [
    "## ANSWER: When we implement cross-validation with our LASSO model RSME does not improve but we do get a higher R^2 (0.43 vs 0.49)"
   ]
  },
  {
   "cell_type": "markdown",
   "id": "1702ff3e-a72c-4713-8841-da0ce04ccdd7",
   "metadata": {},
   "source": [
    "## To answer question 3 on which regions we should include first in a pilot to tackle diabetes"
   ]
  },
  {
   "cell_type": "code",
   "execution_count": 66,
   "id": "c5f89340-673b-4077-b088-f87b82912886",
   "metadata": {
    "tags": []
   },
   "outputs": [
    {
     "name": "stderr",
     "output_type": "stream",
     "text": [
      "/var/folders/55/jk4_qtzn10j358zd9v5njzrw0000gn/T/ipykernel_33001/2494152586.py:3: SettingWithCopyWarning: \n",
      "A value is trying to be set on a copy of a slice from a DataFrame.\n",
      "Try using .loc[row_indexer,col_indexer] = value instead\n",
      "\n",
      "See the caveats in the documentation: https://pandas.pydata.org/pandas-docs/stable/user_guide/indexing.html#returning-a-view-versus-a-copy\n",
      "  test_set_merged_with_initial_data['Prediction'] = lasso_pred_test\n"
     ]
    }
   ],
   "source": [
    "## join initial df with prediction data from the test set \n",
    "test_set_merged_with_initial_data = diabetes[diabetes.index.isin(X_test.index)]\n",
    "test_set_merged_with_initial_data['Prediction'] = lasso_pred_test"
   ]
  },
  {
   "cell_type": "code",
   "execution_count": 67,
   "id": "a0647adc-5d48-4723-abf9-685b5744cb1c",
   "metadata": {},
   "outputs": [],
   "source": [
    "## we check whether we see differences within counties. here we get the 10 counties with higher diabetes prediction"
   ]
  },
  {
   "cell_type": "code",
   "execution_count": 82,
   "id": "85b3d67c-061d-41e5-afe6-08d14d9ec0be",
   "metadata": {
    "tags": []
   },
   "outputs": [
    {
     "data": {
      "text/html": [
       "<div>\n",
       "<style scoped>\n",
       "    .dataframe tbody tr th:only-of-type {\n",
       "        vertical-align: middle;\n",
       "    }\n",
       "\n",
       "    .dataframe tbody tr th {\n",
       "        vertical-align: top;\n",
       "    }\n",
       "\n",
       "    .dataframe thead th {\n",
       "        text-align: right;\n",
       "    }\n",
       "</style>\n",
       "<table border=\"1\" class=\"dataframe\">\n",
       "  <thead>\n",
       "    <tr style=\"text-align: right;\">\n",
       "      <th></th>\n",
       "      <th>County</th>\n",
       "      <th>Region</th>\n",
       "      <th>Prediction</th>\n",
       "      <th>Diabetes_Number</th>\n",
       "    </tr>\n",
       "  </thead>\n",
       "  <tbody>\n",
       "    <tr>\n",
       "      <th>770</th>\n",
       "      <td>St. Joseph County</td>\n",
       "      <td>Midwest</td>\n",
       "      <td>0.158374</td>\n",
       "      <td>0.079312</td>\n",
       "    </tr>\n",
       "    <tr>\n",
       "      <th>1795</th>\n",
       "      <td>Bernalillo County</td>\n",
       "      <td>West</td>\n",
       "      <td>0.157064</td>\n",
       "      <td>0.054609</td>\n",
       "    </tr>\n",
       "    <tr>\n",
       "      <th>1259</th>\n",
       "      <td>Gratiot County</td>\n",
       "      <td>Midwest</td>\n",
       "      <td>0.151082</td>\n",
       "      <td>0.078141</td>\n",
       "    </tr>\n",
       "    <tr>\n",
       "      <th>197</th>\n",
       "      <td>Humboldt County</td>\n",
       "      <td>West</td>\n",
       "      <td>0.148737</td>\n",
       "      <td>0.076233</td>\n",
       "    </tr>\n",
       "    <tr>\n",
       "      <th>3123</th>\n",
       "      <td>Wood County</td>\n",
       "      <td>South</td>\n",
       "      <td>0.146230</td>\n",
       "      <td>0.137746</td>\n",
       "    </tr>\n",
       "    <tr>\n",
       "      <th>851</th>\n",
       "      <td>Marion County</td>\n",
       "      <td>Midwest</td>\n",
       "      <td>0.145215</td>\n",
       "      <td>0.072304</td>\n",
       "    </tr>\n",
       "    <tr>\n",
       "      <th>1368</th>\n",
       "      <td>Olmsted County</td>\n",
       "      <td>Midwest</td>\n",
       "      <td>0.144767</td>\n",
       "      <td>0.058583</td>\n",
       "    </tr>\n",
       "    <tr>\n",
       "      <th>3073</th>\n",
       "      <td>Braxton County</td>\n",
       "      <td>South</td>\n",
       "      <td>0.140186</td>\n",
       "      <td>0.093894</td>\n",
       "    </tr>\n",
       "    <tr>\n",
       "      <th>1624</th>\n",
       "      <td>Lincoln County</td>\n",
       "      <td>West</td>\n",
       "      <td>0.139697</td>\n",
       "      <td>0.080742</td>\n",
       "    </tr>\n",
       "    <tr>\n",
       "      <th>1328</th>\n",
       "      <td>Clearwater County</td>\n",
       "      <td>Midwest</td>\n",
       "      <td>0.139133</td>\n",
       "      <td>0.081026</td>\n",
       "    </tr>\n",
       "  </tbody>\n",
       "</table>\n",
       "</div>"
      ],
      "text/plain": [
       "                 County   Region  Prediction  Diabetes_Number\n",
       "770   St. Joseph County  Midwest    0.158374         0.079312\n",
       "1795  Bernalillo County     West    0.157064         0.054609\n",
       "1259     Gratiot County  Midwest    0.151082         0.078141\n",
       "197     Humboldt County     West    0.148737         0.076233\n",
       "3123        Wood County    South    0.146230         0.137746\n",
       "851       Marion County  Midwest    0.145215         0.072304\n",
       "1368     Olmsted County  Midwest    0.144767         0.058583\n",
       "3073     Braxton County    South    0.140186         0.093894\n",
       "1624     Lincoln County     West    0.139697         0.080742\n",
       "1328  Clearwater County  Midwest    0.139133         0.081026"
      ]
     },
     "execution_count": 82,
     "metadata": {},
     "output_type": "execute_result"
    }
   ],
   "source": [
    "test_set_merged_with_initial_data[['County', 'Region', 'Prediction', 'Diabetes_Number']].sort_values('Prediction', ascending = False).head(10)"
   ]
  },
  {
   "cell_type": "markdown",
   "id": "250994bb",
   "metadata": {},
   "source": [
    "## 6. Discussion Questions\n",
    "\n",
    "In this section, insert responses for discussion questions here."
   ]
  },
  {
   "cell_type": "markdown",
   "id": "02956fdf-c668-45f8-b28a-bdfe8303d141",
   "metadata": {},
   "source": [
    "1. What is bias-variance tradeoff? Why is it relevant to ML problems like this one?"
   ]
  },
  {
   "cell_type": "markdown",
   "id": "b143ca1a",
   "metadata": {},
   "source": [
    "Bias comes from the inability of a simplified model to approximate a complex real-world problem. Because the model makes some assumptions about the data that are not entirely accurate, it underfits the training data. Variance comes from random noise in the data which accounts for how much the model predictions would vary if they’re trained with different subsets of the data. Underfitting occurs when a model is not complex enough to accurately capture underlying data relationships. It performs poorly on the training and test data. The overall relationships between these 4 terms can be summarized as follows: a model with small variance and high bias will underfit (because it’s not capturing the underlying relationship of the data well), whereas a model with high variance and small bias will overfit (the model has a lot of data to truly capture the underlying data relationship but does not generalize well). In ML you worry more about the latter because of its inherent characteristics: large number of features and complex models. "
   ]
  },
  {
   "cell_type": "markdown",
   "id": "9b6a596d",
   "metadata": {},
   "source": [
    "2. Define overfitting, and why it matters for machine learning. How can we address it?"
   ]
  },
  {
   "cell_type": "markdown",
   "id": "26bfab1f",
   "metadata": {},
   "source": [
    "Overfitting is an analysis that corresponds too closely or exactly to a particular set of data, which means the data is fitted too well and so it performs poorly on new data because it fails to make generalization of the underlying data patterns. The chance of overfitting increases with a higher dimensional model because you have more features to better fit the model and understand underlying patterns in the data, you have more flexibility, but the model is less generalizable. Regularization is a technique to prevent overfitting. It adds a penalty term for model complexity. The goal in ML is to find the right level of regularization that minimizes the error on the training and test data so that the model can make good generalizations when applied to new data, and this is how it’s connected to the bias-variance tradeoff. Regularization aims at finding the best balance between this too to achieve good model generalization. "
   ]
  },
  {
   "cell_type": "markdown",
   "id": "981ca0a9-0ad4-44a0-8dad-ad8109bc2ed2",
   "metadata": {},
   "source": [
    "3. Discuss your analysis in 2-3 paragraphs. Discuss your findings and recommendations. "
   ]
  },
  {
   "cell_type": "markdown",
   "id": "55dd703e",
   "metadata": {},
   "source": [
    "## Which counties or regions would you prioritize for the pilot program? Would your answers change based on whether you want to take into account certain features such as race, gender, or age composition in the county? \n",
    "\n",
    "Factors like obesity and level of physical activity are good predictors of diabetes according to the algorithm using the LASSO model, so we can start with counties/regions in which these factors are already high or show signs to be growing. According to the data, this happens mostly in the West and South region.  \n",
    "\n",
    "In terms of demographics, the most predictive factors are Hispanic ethnicity and old age, so we look for regions where these characteristics are prevalent and we find that they're mostly prevalent in the Southeast region.   \n",
    "\n",
    "It's interesting that when we list the 10 counties the algorith is predicting as most likely to have high rates of diabetes, we see a lot of counties that right now are way under the mean diabetes rate. I don't know how this works given that now we're predicting on data we have, and in the real world we're predicting on a new unseen sample, but I found that interesting. \n",
    "\n",
    "## How confident would you be deploying this sort of model in a real-world application – why or why not?\n",
    "\n",
    "I'm worried that the model did not generalized very well on the test set, so I would not feel confident applying this to the real world. I wonder if there are some decisions that I made that were not the right ones, or if the model needs any additional pre-adjustments before splitting the sample into the different sets. \n"
   ]
  }
 ],
 "metadata": {
  "kernelspec": {
   "display_name": "Python 3 (ipykernel)",
   "language": "python",
   "name": "python3"
  },
  "language_info": {
   "codemirror_mode": {
    "name": "ipython",
    "version": 3
   },
   "file_extension": ".py",
   "mimetype": "text/x-python",
   "name": "python",
   "nbconvert_exporter": "python",
   "pygments_lexer": "ipython3",
   "version": "3.11.4"
  }
 },
 "nbformat": 4,
 "nbformat_minor": 5
}
