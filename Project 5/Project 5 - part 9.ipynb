{
 "cells": [
  {
   "cell_type": "code",
   "execution_count": 2,
   "id": "65dd3286-c158-4c53-97a1-595da8e4203b",
   "metadata": {
    "tags": []
   },
   "outputs": [],
   "source": [
    "# Student: Brenda Sciepura"
   ]
  },
  {
   "cell_type": "code",
   "execution_count": 1,
   "id": "141d27a6-1d89-4654-ace2-ab6a4d53e397",
   "metadata": {
    "tags": []
   },
   "outputs": [
    {
     "name": "stderr",
     "output_type": "stream",
     "text": [
      "2024-02-29 21:55:07.149435: I tensorflow/core/platform/cpu_feature_guard.cc:182] This TensorFlow binary is optimized to use available CPU instructions in performance-critical operations.\n",
      "To enable the following instructions: AVX2 AVX512F AVX512_VNNI FMA, in other operations, rebuild TensorFlow with the appropriate compiler flags.\n"
     ]
    }
   ],
   "source": [
    "from transformers import pipeline, set_seed"
   ]
  },
  {
   "cell_type": "code",
   "execution_count": 3,
   "id": "ea26bb24-2934-47ca-9c1e-925176d77bb0",
   "metadata": {
    "tags": []
   },
   "outputs": [
    {
     "data": {
      "application/vnd.jupyter.widget-view+json": {
       "model_id": "aee2c28bf58b447087c1acc550f0819f",
       "version_major": 2,
       "version_minor": 0
      },
      "text/plain": [
       "config.json:   0%|          | 0.00/665 [00:00<?, ?B/s]"
      ]
     },
     "metadata": {},
     "output_type": "display_data"
    },
    {
     "data": {
      "application/vnd.jupyter.widget-view+json": {
       "model_id": "2b155c352dc2462eab3e2110add5ddd8",
       "version_major": 2,
       "version_minor": 0
      },
      "text/plain": [
       "model.safetensors:   0%|          | 0.00/548M [00:00<?, ?B/s]"
      ]
     },
     "metadata": {},
     "output_type": "display_data"
    },
    {
     "name": "stderr",
     "output_type": "stream",
     "text": [
      "All PyTorch model weights were used when initializing TFGPT2LMHeadModel.\n",
      "\n",
      "All the weights of TFGPT2LMHeadModel were initialized from the PyTorch model.\n",
      "If your task is similar to the task the model of the checkpoint was trained on, you can already use TFGPT2LMHeadModel for predictions without further training.\n"
     ]
    },
    {
     "data": {
      "application/vnd.jupyter.widget-view+json": {
       "model_id": "d488363791fd418b8994c54a8e7e3630",
       "version_major": 2,
       "version_minor": 0
      },
      "text/plain": [
       "tokenizer_config.json:   0%|          | 0.00/26.0 [00:00<?, ?B/s]"
      ]
     },
     "metadata": {},
     "output_type": "display_data"
    },
    {
     "data": {
      "application/vnd.jupyter.widget-view+json": {
       "model_id": "4a9b104ca491426e9147d8c4eaafdc4f",
       "version_major": 2,
       "version_minor": 0
      },
      "text/plain": [
       "vocab.json:   0%|          | 0.00/1.04M [00:00<?, ?B/s]"
      ]
     },
     "metadata": {},
     "output_type": "display_data"
    },
    {
     "data": {
      "application/vnd.jupyter.widget-view+json": {
       "model_id": "c6a084cdfc184f0f88d5488464391f91",
       "version_major": 2,
       "version_minor": 0
      },
      "text/plain": [
       "merges.txt:   0%|          | 0.00/456k [00:00<?, ?B/s]"
      ]
     },
     "metadata": {},
     "output_type": "display_data"
    },
    {
     "data": {
      "application/vnd.jupyter.widget-view+json": {
       "model_id": "cb7adf17c1564c68803819df0f3f9799",
       "version_major": 2,
       "version_minor": 0
      },
      "text/plain": [
       "tokenizer.json:   0%|          | 0.00/1.36M [00:00<?, ?B/s]"
      ]
     },
     "metadata": {},
     "output_type": "display_data"
    }
   ],
   "source": [
    "# Here, 'text-generation' tells the pipeline to create a text generation model, and model='gpt2'\n",
    "# specifies that you want to use the GPT-2 model for this task.\n",
    "generator = pipeline('text-generation', model='gpt2')"
   ]
  },
  {
   "cell_type": "code",
   "execution_count": 8,
   "id": "2e71eaa9-5a36-49a6-9dc1-59bf515c58e0",
   "metadata": {
    "tags": []
   },
   "outputs": [
    {
     "name": "stderr",
     "output_type": "stream",
     "text": [
      "Setting `pad_token_id` to `eos_token_id`:50256 for open-end generation.\n"
     ]
    },
    {
     "name": "stdout",
     "output_type": "stream",
     "text": [
      "I am studying whether political parties are polarized in Congress.\"\n",
      "\n",
      "Congress in particular needs an explanation for this \"split among party members,\" he says, pointing to both the lack of consistent leader-to-leader communication and the party's fragmented electoral system.\n",
      "\n",
      "He added that party leaders need to be informed about how their members are elected and their\n",
      "----\n",
      "I am studying whether political parties are polarized in Congress. So my answer to this is the same. It is that if our party has the votes only of moderates and those in both parties, then the voters are polarized; they are opposed to them politically. So what about, you know, you know, my approach to leadership, to what is going\n",
      "----\n",
      "I am studying whether political parties are polarized in Congress. So I will focus on the two major political parties, as opposed to on individual parties.\"\n",
      "\n",
      "He has done that in his lifetime.\n",
      "\n",
      "Polls over the past 10 years indicate \"no\" to both sides of Congress. On one hand, Democrats can't \"doom\" to\n",
      "----\n",
      "I am studying whether political parties are polarized in Congress. So the question is whether we should give the same voice to party leaders [to] the Republican majority in Congress… The issue was important to the Democrats in the past, but it is not important now.\"\n",
      "\n",
      "Obama is also looking into possible changes to how his party handles civil liberties concerns,\n",
      "----\n",
      "I am studying whether political parties are polarized in Congress and in their members, so that there is a clear picture about how the electoral college is constructed,\" she said.\n",
      "\n",
      "The committee also recently established a political science department, called the Political Analysis Group. It is the second division of the department dedicated to studying the influence of the parties at the national\n",
      "----\n"
     ]
    }
   ],
   "source": [
    "## I tried a lot of inputs and I'm not getting very good answers! \n",
    "\n",
    "set_seed(100)\n",
    "input_text = \"I am studying whether political parties are polarized in Congress\"\n",
    "# specifying the maximum length of the output, and the number of different sequences you want\n",
    "output = generator(input_text, max_length=70, num_return_sequences=5)\n",
    "for result in output:\n",
    "    print(result['generated_text'])\n",
    "    print(\"----\")"
   ]
  },
  {
   "cell_type": "code",
   "execution_count": 9,
   "id": "144567bf-94e8-4901-b01b-877195c40aef",
   "metadata": {
    "tags": []
   },
   "outputs": [
    {
     "name": "stderr",
     "output_type": "stream",
     "text": [
      "Setting `pad_token_id` to `eos_token_id`:50256 for open-end generation.\n"
     ]
    },
    {
     "name": "stdout",
     "output_type": "stream",
     "text": [
      "I am studying whether political parties are polarized in Congress. There is no way that you can find evidence of polarization in Congress. That's why I'm not sure whether it's the partisanship and the polarization of the government that is the problem.\n",
      "\n",
      "KRISHA MARCH: I think it's important to understand that polarization is not the\n",
      "----\n",
      "I am studying whether political parties are polarized in Congress. If this were true, we would expect parties to be heavily polarized. But this is not the case.\n",
      "\n",
      "What's more, if we look at the polarization of the two parties in Congress, most Democrats are no longer ideologically aligned with the party that is being elected, and most Republicans are\n",
      "----\n",
      "I am studying whether political parties are polarized in Congress, and to what extent. And I believe there is much more to this than partisanship,\" he said. \"Why would a party have more clout in the House than a party in the Senate? I think this is something that's going to have to happen.\"\n",
      "\n",
      "The idea that partisan politics\n",
      "----\n",
      "I am studying whether political parties are polarized in Congress.\n",
      "\n",
      "\"I'm also looking at whether the political parties are very polarized in Congress. There's a lot of polarization in Congress. And I would say, 'Oh, no, I think that's what you're looking at.'\"\n",
      "\n",
      "In an interview with The Huffington Post, a former\n",
      "----\n",
      "I am studying whether political parties are polarized in Congress, and what are the implications of this finding. I will be presenting on the topic of polarization at the annual meeting of the American Political Science Association (APA) in Washington, DC on March 15-16.\n",
      "\n",
      "A new analysis from the University of Washington's Center for Democracy and Public Affairs\n",
      "----\n"
     ]
    }
   ],
   "source": [
    "## Setting temperature to 0.7 (decreased randomness)\n",
    "output = generator(input_text, max_length=70, num_return_sequences=5, temperature = 0.7)\n",
    "for result in output:\n",
    "    print(result['generated_text'])\n",
    "    print(\"----\")"
   ]
  },
  {
   "cell_type": "code",
   "execution_count": 10,
   "id": "2c3e0aa6-055c-4e29-9184-417b471564f4",
   "metadata": {
    "tags": []
   },
   "outputs": [
    {
     "name": "stderr",
     "output_type": "stream",
     "text": [
      "Setting `pad_token_id` to `eos_token_id`:50256 for open-end generation.\n"
     ]
    },
    {
     "name": "stdout",
     "output_type": "stream",
     "text": [
      "I am studying whether political parties are polarized in Congress,\" he told a crowd last Thursday.\n",
      "\n",
      "Kang Koryianuski (L), member UPC party of India, is seen during an event at Central Convention Center during its general assembly\n",
      "\n",
      "Kamloops is part of Indian Punjab where more then two lakh people showed up over\n",
      "----\n",
      "I am studying whether political parties are polarized in Congress by partisan leaning in legislatures or they are, with less partisan ideology, quite polarized by income income, political affiliation or ethnicity among voters according. The study by Kranish says if these ideologies dominate ideology's ideological polarization then partisans of color aren't as conservative they claim, they're not likely more polarized\n",
      "----\n",
      "I am studying whether political parties are polarized in Congress. I think that we all know this isn't something all conservatives want -- we think there is one conservative, or liberal Democrat at best!\" Trump claimed while making more attacks, and even went to defend Trump's controversial behavior and his alleged sexual assault allegation. He dismissed his Democratic front-runner, Clinton\n",
      "----\n",
      "I am studying whether political parties are polarized in Congress or whether a party needs stronger policy analysis or lobbying groups or political action committees is even a good way the political establishment can get it right. I want parties of every faith able to hold elected offices which are actually much less representative. So the issue of what party should govern the House and Senate, let\n",
      "----\n",
      "I am studying whether political parties are polarized in Congress while Republicans are even bigger than those of other political parties... When Democrats win large amounts of electoral votes in Congress, they create enormous problems when they lose Congress and other key battlegrounds where, in many cases, their losses amount. On the downside, they could run into obstacles in their midterm year campaigns\n",
      "----\n"
     ]
    }
   ],
   "source": [
    "## Setting temperature to 0.7 (increased randomness)\n",
    "output = generator(input_text, max_length=70, num_return_sequences=5, temperature = 1.7)\n",
    "for result in output:\n",
    "    print(result['generated_text'])\n",
    "    print(\"----\")"
   ]
  }
 ],
 "metadata": {
  "kernelspec": {
   "display_name": "Python 3 (ipykernel)",
   "language": "python",
   "name": "python3"
  },
  "language_info": {
   "codemirror_mode": {
    "name": "ipython",
    "version": 3
   },
   "file_extension": ".py",
   "mimetype": "text/x-python",
   "name": "python",
   "nbconvert_exporter": "python",
   "pygments_lexer": "ipython3",
   "version": "3.11.4"
  }
 },
 "nbformat": 4,
 "nbformat_minor": 5
}
